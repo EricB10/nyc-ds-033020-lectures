{
 "cells": [
  {
   "cell_type": "code",
   "execution_count": 1,
   "metadata": {},
   "outputs": [
    {
     "data": {
      "text/plain": [
       "4"
      ]
     },
     "execution_count": 1,
     "metadata": {},
     "output_type": "execute_result"
    }
   ],
   "source": [
    "2 + 2"
   ]
  },
  {
   "cell_type": "markdown",
   "metadata": {},
   "source": [
    "# Statistics\n",
    "\n",
    "- **Goal**: make inferences about the population based on the sample\n",
    "- **Event**: collection of outcomes, typically denoted by capital letters $(A, B, C)$\n",
    "    - $B =$ {blue eyes}, etc\n",
    "- **Compliment**: $'$, $A'$, not $A$\n",
    "- **Probability Notation**: $P$, as in $P(B) = x$ : 'Probability of event B is x'\n",
    "- **Whole Sample Space**: $\\Omega$, \\\\Omega\n",
    "- **Empty Set**: $\\varnothing$, \\\\varnothing **or** $\\{\\}$, no outcome\n",
    "- **Joint Probability Distribution**: $S$, Probaility of Tails on first and second coin toss\n",
    "    - $P(T,T)$ or $P(TT)$\n",
    "- **Outcome Space**: aka **Sample Space**, all possible outcomes that can occur, denoted\n",
    "- **In**: $A \\in S$ : \\in, element A belongs to set $S$\n",
    "- **Not In**: $A \\notin S$ : \\notin, $A$ not in $S$\n",
    "- Set $T$ is a subset of set $S$ if every element of $T$ is also in $S$\n",
    "- **Union**: $A \\cup B$, \\cup, all events in $A$ **or** $B$\n",
    "- **Intersection**: $A \\cap B$, \\cap all events in $A$ **and** $B$\n",
    "- **Mutual Exclusion**: $A \\cap B = \\varnothing$, $A$ and $B$ cannot both be true\n",
    "    - If $A$ and $B$ are **Mutually Exclusive**, the prob of their intersection is $0$\n",
    "- $P(A \\cap B) = \\varnothing$\n",
    "- **Probabily Theory**: study of the frequency of event in some context\n",
    "- Probability of an event is between $(0,1)$ aka $0\\% - 100\\%$\n",
    "    - $0 \\leq P(A) \\leq 1$\n",
    "- **Independent Events**: prob of $A$ is not changed based on outcome of $B$\n",
    "- **Dependent Events**: $A$ is influenced by $B$\n",
    "- **Conditional Probability**: $|$, prob of one event occuring given that a second event has occurred\n",
    "    - $P(A | B) = \\frac{P(A \\cap B)}{P(B)}$\n",
    "- **Random Variable**: variable whose values depend on a random event\n",
    "- **Qualitative Random Variable**: values vary in kind but not in numerical degree. Categorical Variables\n",
    "- **Quantitative Random Variable**:\n",
    "    - **Discrete Random Variable**: can only assume countable (sometimes infinite) num of values\n",
    "    - **Continuous Random Variable**: can assume uncountable num of values, no gaps corresponding to numbers which have a finite prob of occurring\n",
    "- **Probability Function**: $f(X)$ math function which provides probabilities for possible outcomes of the random variable $X$\n",
    "- **Probability Mass Function**: $PMF$ (if random var is **discrete**), Probability Distribution of a discrete Random Variable, provides possible values and associated probabilities\n",
    "    - $fX(x_i) = P(X = x_i)$\n",
    "- **Cumulative Distribution Function**: $CDF$ aka Cumulative **Mass** Function, sums the frequencies $\\leq$ a particular value\n",
    "\t- $F(x) = P(X \\leq x)$\n",
    "- **Probability Density Function**: $PDF$ (if random var is **continous**), Used to specify the probability of the random variable falling within a particular range of values\n",
    "    - $f = \\frac{dX_*P}{d\\mu}$\n",
    "    - that is, $f$ is any measurable function with the property that:\n",
    "$$\n",
    "Pr[X \\in A] = \\int_{x^{-1}A} dP = \\int_Afd\\mu\n",
    "$$\n",
    "- **Expected Value (mean) of Discrete Random Variable**:\n",
    "- **Variance of Discrete Random Var**:\n",
    "\n",
    "- **Variance of Continuous Random Var**:\n",
    "- **Bernoulli Trial**: experiment where there are only two outcomes\n",
    "- **Binomial Distribution**: a special Discrete Distribution where there are two distinct complementary outcomes, a 'success' and a 'failure.' All conditions must be met:\n",
    "    1.  experiment consists of n identical trials\n",
    "    2.  each trial results in one of two outcomes\n",
    "    3.  prob of success is the same for each trial\n",
    "    4.  the outcome of each trial is not affected by the outcmoe of any other trial\n",
    "- Binomial Formula: use for a binomial random variable with probability of success p and n trials\n",
    "- **Permutation**:\n",
    "- **Combination**:\n",
    "\n",
    "\n",
    "\n",
    "\n"
   ]
  },
  {
   "cell_type": "code",
   "execution_count": null,
   "metadata": {},
   "outputs": [],
   "source": []
  }
 ],
 "metadata": {
  "kernelspec": {
   "display_name": "Python 3",
   "language": "python",
   "name": "python3"
  },
  "language_info": {
   "codemirror_mode": {
    "name": "ipython",
    "version": 3
   },
   "file_extension": ".py",
   "mimetype": "text/x-python",
   "name": "python",
   "nbconvert_exporter": "python",
   "pygments_lexer": "ipython3",
   "version": "3.7.6"
  }
 },
 "nbformat": 4,
 "nbformat_minor": 2
}
