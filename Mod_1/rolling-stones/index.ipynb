{
 "cells": [
  {
   "cell_type": "code",
   "execution_count": 54,
   "metadata": {},
   "outputs": [],
   "source": [
    "import csv\n",
    "import json\n",
    "import collections\n",
    "import matplotlib.pyplot as plt\n",
    "from functions import *"
   ]
  },
  {
   "cell_type": "code",
   "execution_count": 55,
   "metadata": {},
   "outputs": [],
   "source": [
    "# Open Top Albums csv file, create list albums.\n",
    "with open('data.csv') as f:\n",
    "    albums = []\n",
    "    for row in csv.DictReader(f):\n",
    "        albums.append(row)"
   ]
  },
  {
   "cell_type": "code",
   "execution_count": 56,
   "metadata": {},
   "outputs": [],
   "source": [
    "# Open Top 500 Songs txt file, create list songs.\n",
    "text_file = open('top-500-songs.txt', 'r')\n",
    "lines = text_file.readlines()\n",
    "song_list = []\n",
    "songs = []\n",
    "for line in lines:\n",
    "    song_list.append(line.split('\\t'))\n",
    "for song in song_list:\n",
    "    songs.append({'rank': song[0], 'name': song[1], 'artist': song[2], 'year': song[3][:-1]})"
   ]
  },
  {
   "cell_type": "code",
   "execution_count": 57,
   "metadata": {
    "scrolled": false
   },
   "outputs": [],
   "source": [
    "# Open Top 500 Songs json file, create list songs_data.\n",
    "file = open('track_data.json', 'r')\n",
    "songs_data = json.load(file)"
   ]
  },
  {
   "cell_type": "code",
   "execution_count": 58,
   "metadata": {},
   "outputs": [],
   "source": [
    "# Set variable for easy use.\n",
    "top_500 = all_songs(songs)"
   ]
  },
  {
   "cell_type": "code",
   "execution_count": 59,
   "metadata": {},
   "outputs": [],
   "source": [
    "# Pass album name and data set, returns dict of album info.\n",
    "def find_by_album(album, data_set):\n",
    "    for entry in data_set:\n",
    "        #print(entry)\n",
    "        if entry['album'].lower() == album.lower():\n",
    "            return entry\n",
    "        else:\n",
    "            return None"
   ]
  },
  {
   "cell_type": "code",
   "execution_count": 60,
   "metadata": {},
   "outputs": [],
   "source": [
    "find_by_album('Revolver', albums)"
   ]
  },
  {
   "cell_type": "code",
   "execution_count": 32,
   "metadata": {},
   "outputs": [],
   "source": [
    "## Available Functions:\n",
    "\n",
    "# # Pass album name and data set, returns dict of album info.\n",
    "# find_by_album('Revolver', albums)\n",
    "\n",
    "## Pass album rank and data set, returns album name, rank.\n",
    "# find_by_rank(10, albums)\n",
    "\n",
    "## Pass start rank, end rank and data set, returns list of album names in range (inclusive).\n",
    "# find_by_ranks(50, 100, albums)\n",
    "\n",
    "## Pass year and data set, returns list of album names in that year. \n",
    "# find_by_year(1969, albums)\n",
    "\n",
    "## Pass start year, end year and data set, returns list of album names in range (inclusive).\n",
    "# find_by_years(1960, 1969, albums)\n",
    "\n",
    "## Pass data set, returns list of all album titles.\n",
    "# all_albums(albums)\n",
    "\n",
    "## Pass data set, returns list of all artist names.\n",
    "# all_artists(albums)\n",
    "\n",
    "## Pass data set, returns list of all songs.\n",
    "# all_songs(albums)\n",
    "\n",
    "# # Pass data set, returns artist with the most albums on Top Albums list.\n",
    "# artist_w_most_albums(albums)\n",
    "\n",
    "# # Pass data set, returns word used the most in all album titles.\n",
    "# most_popular_word(songs_data)\n",
    "\n",
    "## Pass data set, returns histogram of (decade, number of albums in decade).\n",
    "# year_hist()\n",
    "\n",
    "## Pass data set, returns histogram of (genre, number of albums in genre).                     \n",
    "# genre_hist()\n",
    "\n",
    "## Returns album with the most songs in Top 500 list.\n",
    "# album_w_most_songs()\n",
    "\n",
    "## Returns list of albums with at least one song in Top 500 Songs list.\n",
    "# albums_w_top_songs()\n",
    "\n",
    "## Returns list of songs in the Top Albums list.\n",
    "# songs_in_top_albums()\n",
    "\n",
    "## Returns top overall artist by number of songs in Top 500 Songs list plus number of albums in Top Albums list.\n",
    "# def top_overall_artist():"
   ]
  }
 ],
 "metadata": {
  "kernelspec": {
   "display_name": "Python 3",
   "language": "python",
   "name": "python3"
  },
  "language_info": {
   "codemirror_mode": {
    "name": "ipython",
    "version": 3
   },
   "file_extension": ".py",
   "mimetype": "text/x-python",
   "name": "python",
   "nbconvert_exporter": "python",
   "pygments_lexer": "ipython3",
   "version": "3.7.6"
  }
 },
 "nbformat": 4,
 "nbformat_minor": 2
}
