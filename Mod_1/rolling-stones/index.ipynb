{
 "cells": [
  {
   "cell_type": "code",
   "execution_count": 17,
   "metadata": {
    "scrolled": false
   },
   "outputs": [],
   "source": [
    "from functions import *"
   ]
  },
  {
   "cell_type": "code",
   "execution_count": 23,
   "metadata": {},
   "outputs": [],
   "source": [
    "# Available Functions:\n",
    "\n",
    "find_by_album('Revolver',albums)\n",
    "# find_by_rank()\n",
    "# find_by_ranks()\n",
    "# find_by_year()\n",
    "# find_by_years()\n",
    "\n",
    "# all_albums()\n",
    "# all_artists()\n",
    "# all_songs()\n",
    "\n",
    "# artist_w_most_albums()\n",
    "# most_popular_word()\n",
    "# year_hist()\n",
    "# genre_hist()\n",
    "\n",
    "# album_w_most_songs()\n",
    "# albums_w_top_songs()\n",
    "# songs_in_top_albums()"
   ]
  },
  {
   "cell_type": "code",
   "execution_count": null,
   "metadata": {},
   "outputs": [],
   "source": []
  }
 ],
 "metadata": {
  "kernelspec": {
   "display_name": "Python 3",
   "language": "python",
   "name": "python3"
  },
  "language_info": {
   "codemirror_mode": {
    "name": "ipython",
    "version": 3
   },
   "file_extension": ".py",
   "mimetype": "text/x-python",
   "name": "python",
   "nbconvert_exporter": "python",
   "pygments_lexer": "ipython3",
   "version": "3.7.6"
  }
 },
 "nbformat": 4,
 "nbformat_minor": 2
}
