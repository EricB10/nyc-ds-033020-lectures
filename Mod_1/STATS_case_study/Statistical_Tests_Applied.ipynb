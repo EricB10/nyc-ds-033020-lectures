{
 "cells": [
  {
   "cell_type": "markdown",
   "metadata": {},
   "source": [
    "# Case Background & Key Questions\t\n",
    "\n",
    "Flatiron Health Insurance (FHI) is a growing private healthcare insurance provider founded on the premise that using data and analytics can improve the health insurance industry by providing better care and offerings to its patients. Every year, the Center for Disease Control (CDC) conducts surveys to understand the latest demographic, health, and fitness trends. You have been tasked with analyzing the recently published results of his years’ survey and providing your recommendations back to the Chief Analytics Officer and Chief Marketing Officer. You have been assigned the task of taking a first look at the data and beginning to answer several key questions:\n",
    "\t\t\t\t\t\t\t\t\t\t\t \t\t\t\t\t\t\t\t\n",
    "1)  How does health status, represented by average number of days with bad physical health in the past month (PHYSHLTH), differ by state? Also provide an indication of distribution using whatever statistics you find suitable.\n",
    " \t\t\t\t\t\t\t\t\t\t\t\t \t\t\t\t\t\t\t\t\n",
    "2)  Digging deeper into the data, what are some factors that impact health (i.e. demographics, behaviors, previous illness, etc.)?\t\n",
    "\t\t\t\t\t\t \t\t\t\t\t\t\n",
    "To get you started, the IT department formatted the data set into a tab delimited text file for only NY, NJ, and CT (FHI’s primary markets) called `case_studey.csv`. Below you will find a list of steps/questions that you will need to take in your investigation. The first part of the notebook will be focused on cleaning up your data and vidualizing it.  The second part of the data set will be focused on performing statistical tests to make statements with statistical significance.  \n"
   ]
  },
  {
   "cell_type": "code",
   "execution_count": 1,
   "metadata": {
    "collapsed": true
   },
   "outputs": [],
   "source": [
    "import math\n",
    "import numpy as np\n",
    "import pandas as pd\n",
    "\n",
    "import matplotlib.pyplot as plt\n",
    "%matplotlib inline\n",
    "from matplotlib import style\n",
    "style.use('dark_background')\n",
    "\n",
    "import seaborn as sns\n",
    "sns.set_style('darkgrid')"
   ]
  },
  {
   "cell_type": "markdown",
   "metadata": {},
   "source": [
    "# pd.read_csv('case_study.csv')"
   ]
  },
  {
   "cell_type": "code",
   "execution_count": 2,
   "metadata": {
    "collapsed": false
   },
   "outputs": [
    {
     "name": "stderr",
     "output_type": "stream",
     "text": [
      "/Users/judebuenaseda/anaconda/lib/python3.5/site-packages/IPython/core/interactiveshell.py:2723: DtypeWarning: Columns (171) have mixed types. Specify dtype option on import or set low_memory=False.\n",
      "  interactivity=interactivity, compiler=compiler, result=result)\n"
     ]
    }
   ],
   "source": [
    "#Load our dataframe account for the index columns\n",
    "df = pd.read_csv('case_study.csv', index_col=0)"
   ]
  },
  {
   "cell_type": "code",
   "execution_count": 3,
   "metadata": {
    "collapsed": false
   },
   "outputs": [
    {
     "data": {
      "text/html": [
       "<div>\n",
       "<table border=\"1\" class=\"dataframe\">\n",
       "  <thead>\n",
       "    <tr style=\"text-align: right;\">\n",
       "      <th></th>\n",
       "      <th>_STATE</th>\n",
       "      <th>FMONTH</th>\n",
       "      <th>IDATE</th>\n",
       "      <th>IMONTH</th>\n",
       "      <th>IDAY</th>\n",
       "      <th>IYEAR</th>\n",
       "      <th>DISPCODE</th>\n",
       "      <th>SEQNO</th>\n",
       "      <th>_PSU</th>\n",
       "      <th>CTELENM1</th>\n",
       "      <th>...</th>\n",
       "      <th>_PA300R2</th>\n",
       "      <th>_PA30021</th>\n",
       "      <th>_PASTRNG</th>\n",
       "      <th>_PAREC1</th>\n",
       "      <th>_PASTAE1</th>\n",
       "      <th>_RFSEAT2</th>\n",
       "      <th>_RFSEAT3</th>\n",
       "      <th>_FLSHOT6</th>\n",
       "      <th>_PNEUMO2</th>\n",
       "      <th>_AIDTST3</th>\n",
       "    </tr>\n",
       "  </thead>\n",
       "  <tbody>\n",
       "    <tr>\n",
       "      <th>49938</th>\n",
       "      <td>9.0</td>\n",
       "      <td>5.0</td>\n",
       "      <td>5172017</td>\n",
       "      <td>5</td>\n",
       "      <td>17</td>\n",
       "      <td>2017</td>\n",
       "      <td>1200.0</td>\n",
       "      <td>2017000001</td>\n",
       "      <td>2.017000e+09</td>\n",
       "      <td>NaN</td>\n",
       "      <td>...</td>\n",
       "      <td>2.0</td>\n",
       "      <td>2.0</td>\n",
       "      <td>2.0</td>\n",
       "      <td>4.0</td>\n",
       "      <td>2.0</td>\n",
       "      <td>1.0</td>\n",
       "      <td>1.0</td>\n",
       "      <td>NaN</td>\n",
       "      <td>NaN</td>\n",
       "      <td>1.0</td>\n",
       "    </tr>\n",
       "    <tr>\n",
       "      <th>49939</th>\n",
       "      <td>9.0</td>\n",
       "      <td>2.0</td>\n",
       "      <td>2142017</td>\n",
       "      <td>2</td>\n",
       "      <td>14</td>\n",
       "      <td>2017</td>\n",
       "      <td>1200.0</td>\n",
       "      <td>2017000002</td>\n",
       "      <td>2.017000e+09</td>\n",
       "      <td>NaN</td>\n",
       "      <td>...</td>\n",
       "      <td>1.0</td>\n",
       "      <td>1.0</td>\n",
       "      <td>1.0</td>\n",
       "      <td>1.0</td>\n",
       "      <td>1.0</td>\n",
       "      <td>2.0</td>\n",
       "      <td>2.0</td>\n",
       "      <td>NaN</td>\n",
       "      <td>NaN</td>\n",
       "      <td>2.0</td>\n",
       "    </tr>\n",
       "    <tr>\n",
       "      <th>49940</th>\n",
       "      <td>9.0</td>\n",
       "      <td>1.0</td>\n",
       "      <td>1292017</td>\n",
       "      <td>1</td>\n",
       "      <td>29</td>\n",
       "      <td>2017</td>\n",
       "      <td>1200.0</td>\n",
       "      <td>2017000003</td>\n",
       "      <td>2.017000e+09</td>\n",
       "      <td>NaN</td>\n",
       "      <td>...</td>\n",
       "      <td>3.0</td>\n",
       "      <td>2.0</td>\n",
       "      <td>1.0</td>\n",
       "      <td>3.0</td>\n",
       "      <td>2.0</td>\n",
       "      <td>1.0</td>\n",
       "      <td>1.0</td>\n",
       "      <td>NaN</td>\n",
       "      <td>NaN</td>\n",
       "      <td>2.0</td>\n",
       "    </tr>\n",
       "    <tr>\n",
       "      <th>49941</th>\n",
       "      <td>9.0</td>\n",
       "      <td>7.0</td>\n",
       "      <td>9112017</td>\n",
       "      <td>9</td>\n",
       "      <td>11</td>\n",
       "      <td>2017</td>\n",
       "      <td>1200.0</td>\n",
       "      <td>2017000004</td>\n",
       "      <td>2.017000e+09</td>\n",
       "      <td>NaN</td>\n",
       "      <td>...</td>\n",
       "      <td>2.0</td>\n",
       "      <td>2.0</td>\n",
       "      <td>2.0</td>\n",
       "      <td>2.0</td>\n",
       "      <td>2.0</td>\n",
       "      <td>1.0</td>\n",
       "      <td>1.0</td>\n",
       "      <td>NaN</td>\n",
       "      <td>NaN</td>\n",
       "      <td>1.0</td>\n",
       "    </tr>\n",
       "    <tr>\n",
       "      <th>49942</th>\n",
       "      <td>9.0</td>\n",
       "      <td>5.0</td>\n",
       "      <td>7182017</td>\n",
       "      <td>7</td>\n",
       "      <td>18</td>\n",
       "      <td>2017</td>\n",
       "      <td>1200.0</td>\n",
       "      <td>2017000005</td>\n",
       "      <td>2.017000e+09</td>\n",
       "      <td>NaN</td>\n",
       "      <td>...</td>\n",
       "      <td>2.0</td>\n",
       "      <td>2.0</td>\n",
       "      <td>1.0</td>\n",
       "      <td>1.0</td>\n",
       "      <td>1.0</td>\n",
       "      <td>1.0</td>\n",
       "      <td>1.0</td>\n",
       "      <td>NaN</td>\n",
       "      <td>NaN</td>\n",
       "      <td>2.0</td>\n",
       "    </tr>\n",
       "  </tbody>\n",
       "</table>\n",
       "<p>5 rows × 358 columns</p>\n",
       "</div>"
      ],
      "text/plain": [
       "       _STATE  FMONTH    IDATE  IMONTH  IDAY  IYEAR  DISPCODE       SEQNO  \\\n",
       "49938     9.0     5.0  5172017       5    17   2017    1200.0  2017000001   \n",
       "49939     9.0     2.0  2142017       2    14   2017    1200.0  2017000002   \n",
       "49940     9.0     1.0  1292017       1    29   2017    1200.0  2017000003   \n",
       "49941     9.0     7.0  9112017       9    11   2017    1200.0  2017000004   \n",
       "49942     9.0     5.0  7182017       7    18   2017    1200.0  2017000005   \n",
       "\n",
       "               _PSU  CTELENM1    ...     _PA300R2  _PA30021  _PASTRNG  \\\n",
       "49938  2.017000e+09       NaN    ...          2.0       2.0       2.0   \n",
       "49939  2.017000e+09       NaN    ...          1.0       1.0       1.0   \n",
       "49940  2.017000e+09       NaN    ...          3.0       2.0       1.0   \n",
       "49941  2.017000e+09       NaN    ...          2.0       2.0       2.0   \n",
       "49942  2.017000e+09       NaN    ...          2.0       2.0       1.0   \n",
       "\n",
       "       _PAREC1  _PASTAE1  _RFSEAT2  _RFSEAT3  _FLSHOT6  _PNEUMO2  _AIDTST3  \n",
       "49938      4.0       2.0       1.0       1.0       NaN       NaN       1.0  \n",
       "49939      1.0       1.0       2.0       2.0       NaN       NaN       2.0  \n",
       "49940      3.0       2.0       1.0       1.0       NaN       NaN       2.0  \n",
       "49941      2.0       2.0       1.0       1.0       NaN       NaN       1.0  \n",
       "49942      1.0       1.0       1.0       1.0       NaN       NaN       2.0  \n",
       "\n",
       "[5 rows x 358 columns]"
      ]
     },
     "execution_count": 3,
     "metadata": {},
     "output_type": "execute_result"
    }
   ],
   "source": [
    "df.head()"
   ]
  },
  {
   "cell_type": "code",
   "execution_count": 4,
   "metadata": {
    "collapsed": false
   },
   "outputs": [
    {
     "data": {
      "text/plain": [
       "(34545, 358)"
      ]
     },
     "execution_count": 4,
     "metadata": {},
     "output_type": "execute_result"
    }
   ],
   "source": [
    "# Quickly check to see the size of our DF, both rows and columns\n",
    "df.shape"
   ]
  },
  {
   "cell_type": "markdown",
   "metadata": {},
   "source": [
    "**PHYSHLTH** is the column we are interested in for this analysis, so let's start to investigate the column. Since we have a data cookbook, a.k.a. data dictionary) we want to start there before looking at the code."
   ]
  },
  {
   "cell_type": "markdown",
   "metadata": {},
   "source": [
    "## 1. Handle the non-normal values\n",
    "\n",
    "As you can see from the data dictionary, there are a number of responses that are coded with values that could throw off our descriptive statistics.  Let's clean up by mapping the responses to a more appropriate value, and handling any missing values.  "
   ]
  },
  {
   "cell_type": "code",
   "execution_count": 5,
   "metadata": {
    "collapsed": true
   },
   "outputs": [],
   "source": [
    "#your code here\n",
    "zero_dict = {88:0, 77: np.nan, 99: np.nan}\n",
    "df['PHYSHLTH'].replace(zero_dict, inplace=True)"
   ]
  },
  {
   "cell_type": "code",
   "execution_count": 6,
   "metadata": {
    "collapsed": true
   },
   "outputs": [],
   "source": [
    "# Rename states to state abv.\n",
    "df['_STATE'].replace(9.0, 'CT', inplace=True)\n",
    "df['_STATE'].replace(34.0, 'NJ', inplace=True)\n",
    "df['_STATE'].replace(36.0, 'NY', inplace=True)"
   ]
  },
  {
   "cell_type": "code",
   "execution_count": 7,
   "metadata": {
    "collapsed": true
   },
   "outputs": [],
   "source": [
    "# Create separate databases for each state\n",
    "df_ct = df.set_index('_STATE').loc['CT']\n",
    "df_nj = df.set_index('_STATE').loc['NJ']\n",
    "df_ny = df.set_index('_STATE').loc['NY']"
   ]
  },
  {
   "cell_type": "markdown",
   "metadata": {},
   "source": [
    "## 2. Generate the descriptive statistics\n",
    "\n",
    "Now that our target variable is cleaned up lets calculate the descriptive statistics, generate a graph that quickly shows those statistics, and generate a graph shows the distribution of the data."
   ]
  },
  {
   "cell_type": "code",
   "execution_count": 8,
   "metadata": {
    "collapsed": false
   },
   "outputs": [
    {
     "name": "stderr",
     "output_type": "stream",
     "text": [
      "/Users/judebuenaseda/anaconda/lib/python3.5/site-packages/numpy/lib/function_base.py:3823: RuntimeWarning: Invalid value encountered in percentile\n",
      "  RuntimeWarning)\n"
     ]
    },
    {
     "data": {
      "text/plain": [
       "count    33747.000000\n",
       "mean         4.085341\n",
       "std          8.513293\n",
       "min          0.000000\n",
       "25%               NaN\n",
       "50%               NaN\n",
       "75%               NaN\n",
       "max         30.000000\n",
       "Name: PHYSHLTH, dtype: float64"
      ]
     },
     "execution_count": 8,
     "metadata": {},
     "output_type": "execute_result"
    }
   ],
   "source": [
    "df['PHYSHLTH'].describe()"
   ]
  },
  {
   "cell_type": "code",
   "execution_count": 9,
   "metadata": {
    "collapsed": false
   },
   "outputs": [
    {
     "data": {
      "image/png": "[encoded data removed]",
      "text/plain": [
       "<matplotlib.figure.Figure at 0x104ff7f28>"
      ]
     },
     "metadata": {},
     "output_type": "display_data"
    }
   ],
   "source": [
    "# Plot boxplot of PHYSHLTH values\n",
    "sns.boxplot(df['PHYSHLTH']).set(\n",
    "    title='Health Over Previous 30 Days:\\nInterquantile Range of Participants',\n",
    "    xlabel='Days in Poor Health')\n",
    "\n",
    "plt.show()"
   ]
  },
  {
   "cell_type": "code",
   "execution_count": 10,
   "metadata": {
    "collapsed": true
   },
   "outputs": [],
   "source": [
    "# Graphic the distribution of data"
   ]
  },
  {
   "cell_type": "code",
   "execution_count": 11,
   "metadata": {
    "collapsed": false,
    "scrolled": false
   },
   "outputs": [],
   "source": [
    "# # Seaborn\n",
    "# sns.distplot(df['PHYSHLTH'], kde=False).set(\n",
    "#     title='Health Over Previous 30 Days', xlabel='Days in Poor Health',\n",
    "#     ylabel='Participants')\n",
    "\n",
    "# plt.show()"
   ]
  },
  {
   "cell_type": "code",
   "execution_count": 12,
   "metadata": {
    "collapsed": false
   },
   "outputs": [
    {
     "data": {
      "image/png": "[encoded data removed]",
      "text/plain": [
       "<matplotlib.figure.Figure at 0x12178a898>"
      ]
     },
     "metadata": {},
     "output_type": "display_data"
    }
   ],
   "source": [
    "# matplotlib\n",
    "df['PHYSHLTH'].plot(kind='hist')\n",
    "plt.title('Health Over Previous 30 Days')\n",
    "plt.xlabel('Days in Poor Health')\n",
    "plt.ylabel('Participants')\n",
    "\n",
    "plt.show()"
   ]
  },
  {
   "cell_type": "markdown",
   "metadata": {},
   "source": [
    "## 3. Generate a graphic that compares the average number of sick days for each state. "
   ]
  },
  {
   "cell_type": "code",
   "execution_count": 13,
   "metadata": {
    "collapsed": false
   },
   "outputs": [
    {
     "data": {
      "text/plain": [
       "_STATE\n",
       "CT    3.688562\n",
       "NJ    4.380957\n",
       "NY    4.148030\n",
       "Name: PHYSHLTH, dtype: float64"
      ]
     },
     "execution_count": 13,
     "metadata": {},
     "output_type": "execute_result"
    }
   ],
   "source": [
    "# Code to calculate the average number of sick days by state\n",
    "avg_sick_days = df.groupby('_STATE')['PHYSHLTH'].mean()\n",
    "avg_sick_days"
   ]
  },
  {
   "cell_type": "code",
   "execution_count": 14,
   "metadata": {
    "collapsed": false
   },
   "outputs": [
    {
     "data": {
      "image/png": "[encoded data removed]",
      "text/plain": [
       "<matplotlib.figure.Figure at 0x124227ba8>"
      ]
     },
     "metadata": {},
     "output_type": "display_data"
    }
   ],
   "source": [
    "# Seaborn\n",
    "sick_days_plot = (list(avg_sick_days.keys()), list(avg_sick_days[0:3]))\n",
    "sns.barplot(sick_days_plot[0], sick_days_plot[1]).set(\n",
    "    title='Avg. Days in Poor Health By State\\nOver Previous 30 Days',\n",
    "    xlabel='State', ylabel='Days')\n",
    "\n",
    "plt.show()"
   ]
  },
  {
   "cell_type": "code",
   "execution_count": 15,
   "metadata": {
    "collapsed": false,
    "scrolled": false
   },
   "outputs": [
    {
     "data": {
      "image/png": "[encoded data removed]",
      "text/plain": [
       "<matplotlib.figure.Figure at 0x119307cc0>"
      ]
     },
     "metadata": {},
     "output_type": "display_data"
    }
   ],
   "source": [
    "# Seaborn ---Why does this work?---\n",
    "sns.barplot(df['_STATE'], df['PHYSHLTH'], data=df).set(\n",
    "    title='Avg. Days in Poor Health By State\\nOver Previous 30 Days',\n",
    "    xlabel='State', ylabel='Days')\n",
    "\n",
    "plt.show()"
   ]
  },
  {
   "cell_type": "code",
   "execution_count": 16,
   "metadata": {
    "collapsed": true
   },
   "outputs": [],
   "source": [
    "# Graphic showing the histogram of data"
   ]
  },
  {
   "cell_type": "code",
   "execution_count": 17,
   "metadata": {
    "collapsed": false
   },
   "outputs": [
    {
     "data": {
      "text/html": [
       "<div>\n",
       "<table border=\"1\" class=\"dataframe\">\n",
       "  <thead>\n",
       "    <tr style=\"text-align: right;\">\n",
       "      <th></th>\n",
       "      <th>FMONTH</th>\n",
       "      <th>IDATE</th>\n",
       "      <th>IMONTH</th>\n",
       "      <th>IDAY</th>\n",
       "      <th>IYEAR</th>\n",
       "      <th>DISPCODE</th>\n",
       "      <th>SEQNO</th>\n",
       "      <th>_PSU</th>\n",
       "      <th>CTELENM1</th>\n",
       "      <th>PVTRESD1</th>\n",
       "      <th>...</th>\n",
       "      <th>_PA300R2</th>\n",
       "      <th>_PA30021</th>\n",
       "      <th>_PASTRNG</th>\n",
       "      <th>_PAREC1</th>\n",
       "      <th>_PASTAE1</th>\n",
       "      <th>_RFSEAT2</th>\n",
       "      <th>_RFSEAT3</th>\n",
       "      <th>_FLSHOT6</th>\n",
       "      <th>_PNEUMO2</th>\n",
       "      <th>_AIDTST3</th>\n",
       "    </tr>\n",
       "    <tr>\n",
       "      <th>_STATE</th>\n",
       "      <th></th>\n",
       "      <th></th>\n",
       "      <th></th>\n",
       "      <th></th>\n",
       "      <th></th>\n",
       "      <th></th>\n",
       "      <th></th>\n",
       "      <th></th>\n",
       "      <th></th>\n",
       "      <th></th>\n",
       "      <th></th>\n",
       "      <th></th>\n",
       "      <th></th>\n",
       "      <th></th>\n",
       "      <th></th>\n",
       "      <th></th>\n",
       "      <th></th>\n",
       "      <th></th>\n",
       "      <th></th>\n",
       "      <th></th>\n",
       "      <th></th>\n",
       "    </tr>\n",
       "  </thead>\n",
       "  <tbody>\n",
       "    <tr>\n",
       "      <th>CT</th>\n",
       "      <td>6.183037</td>\n",
       "      <td>6.462077e+06</td>\n",
       "      <td>6.308651</td>\n",
       "      <td>15.140820</td>\n",
       "      <td>2017.003211</td>\n",
       "      <td>1119.418209</td>\n",
       "      <td>2.017005e+09</td>\n",
       "      <td>2.017005e+09</td>\n",
       "      <td>1.0</td>\n",
       "      <td>1.000543</td>\n",
       "      <td>...</td>\n",
       "      <td>2.819135</td>\n",
       "      <td>2.600680</td>\n",
       "      <td>2.465905</td>\n",
       "      <td>3.464110</td>\n",
       "      <td>2.767378</td>\n",
       "      <td>1.841235</td>\n",
       "      <td>1.873536</td>\n",
       "      <td>2.442057</td>\n",
       "      <td>2.539013</td>\n",
       "      <td>1.942721</td>\n",
       "    </tr>\n",
       "    <tr>\n",
       "      <th>NJ</th>\n",
       "      <td>7.858387</td>\n",
       "      <td>8.220029e+06</td>\n",
       "      <td>8.060044</td>\n",
       "      <td>15.796720</td>\n",
       "      <td>2017.000342</td>\n",
       "      <td>1114.895798</td>\n",
       "      <td>2.017006e+09</td>\n",
       "      <td>2.017006e+09</td>\n",
       "      <td>1.0</td>\n",
       "      <td>1.000133</td>\n",
       "      <td>...</td>\n",
       "      <td>2.826785</td>\n",
       "      <td>2.540571</td>\n",
       "      <td>2.364025</td>\n",
       "      <td>3.474291</td>\n",
       "      <td>2.675692</td>\n",
       "      <td>1.707892</td>\n",
       "      <td>1.743765</td>\n",
       "      <td>2.166591</td>\n",
       "      <td>2.248413</td>\n",
       "      <td>1.896568</td>\n",
       "    </tr>\n",
       "    <tr>\n",
       "      <th>NY</th>\n",
       "      <td>6.792228</td>\n",
       "      <td>7.070543e+06</td>\n",
       "      <td>6.920892</td>\n",
       "      <td>14.763409</td>\n",
       "      <td>2017.000490</td>\n",
       "      <td>1120.948649</td>\n",
       "      <td>2.017006e+09</td>\n",
       "      <td>2.017006e+09</td>\n",
       "      <td>1.0</td>\n",
       "      <td>1.000735</td>\n",
       "      <td>...</td>\n",
       "      <td>3.067108</td>\n",
       "      <td>2.801453</td>\n",
       "      <td>2.608784</td>\n",
       "      <td>3.705445</td>\n",
       "      <td>2.950445</td>\n",
       "      <td>1.994775</td>\n",
       "      <td>2.045718</td>\n",
       "      <td>2.562725</td>\n",
       "      <td>2.582519</td>\n",
       "      <td>1.705739</td>\n",
       "    </tr>\n",
       "  </tbody>\n",
       "</table>\n",
       "<p>3 rows × 356 columns</p>\n",
       "</div>"
      ],
      "text/plain": [
       "          FMONTH         IDATE    IMONTH       IDAY        IYEAR     DISPCODE  \\\n",
       "_STATE                                                                          \n",
       "CT      6.183037  6.462077e+06  6.308651  15.140820  2017.003211  1119.418209   \n",
       "NJ      7.858387  8.220029e+06  8.060044  15.796720  2017.000342  1114.895798   \n",
       "NY      6.792228  7.070543e+06  6.920892  14.763409  2017.000490  1120.948649   \n",
       "\n",
       "               SEQNO          _PSU  CTELENM1  PVTRESD1    ...     _PA300R2  \\\n",
       "_STATE                                                    ...                \n",
       "CT      2.017005e+09  2.017005e+09       1.0  1.000543    ...     2.819135   \n",
       "NJ      2.017006e+09  2.017006e+09       1.0  1.000133    ...     2.826785   \n",
       "NY      2.017006e+09  2.017006e+09       1.0  1.000735    ...     3.067108   \n",
       "\n",
       "        _PA30021  _PASTRNG   _PAREC1  _PASTAE1  _RFSEAT2  _RFSEAT3  _FLSHOT6  \\\n",
       "_STATE                                                                         \n",
       "CT      2.600680  2.465905  3.464110  2.767378  1.841235  1.873536  2.442057   \n",
       "NJ      2.540571  2.364025  3.474291  2.675692  1.707892  1.743765  2.166591   \n",
       "NY      2.801453  2.608784  3.705445  2.950445  1.994775  2.045718  2.562725   \n",
       "\n",
       "        _PNEUMO2  _AIDTST3  \n",
       "_STATE                      \n",
       "CT      2.539013  1.942721  \n",
       "NJ      2.248413  1.896568  \n",
       "NY      2.582519  1.705739  \n",
       "\n",
       "[3 rows x 356 columns]"
      ]
     },
     "execution_count": 17,
     "metadata": {},
     "output_type": "execute_result"
    }
   ],
   "source": [
    "df.groupby('_STATE').mean()"
   ]
  },
  {
   "cell_type": "code",
   "execution_count": 18,
   "metadata": {
    "collapsed": false,
    "scrolled": true
   },
   "outputs": [],
   "source": [
    "#df.groupby(['_STATE', 'PHYSHLTH']).sum()"
   ]
  },
  {
   "cell_type": "code",
   "execution_count": 19,
   "metadata": {
    "collapsed": false,
    "scrolled": true
   },
   "outputs": [
    {
     "data": {
      "image/png": "[encoded data removed]",
      "text/plain": [
       "<matplotlib.figure.Figure at 0x11949a358>"
      ]
     },
     "metadata": {},
     "output_type": "display_data"
    }
   ],
   "source": [
    "# matplotlib\n",
    "df.groupby('_STATE')['PHYSHLTH'].plot(kind='hist',histtype='step',bins=15)\n",
    "plt.legend(labels=['CT','NJ','NY'])\n",
    "plt.title('Distrobution of Chronically Sick By State')\n",
    "plt.xlabel('No. of Days')\n",
    "plt.ylabel('Participants')\n",
    "plt.show()"
   ]
  },
  {
   "cell_type": "code",
   "execution_count": 20,
   "metadata": {
    "collapsed": true
   },
   "outputs": [],
   "source": [
    "# Seaborn ???"
   ]
  },
  {
   "cell_type": "markdown",
   "metadata": {},
   "source": [
    "## 4. Turn the number of sick days into a classification of of chronically sick people.  \n",
    "\n",
    "Chronically sick people account for a significant proportion of the costs for health insurers. If we can identify what leads people to be chronically sick, we can address them with specific treatments.\n",
    "\n"
   ]
  },
  {
   "cell_type": "code",
   "execution_count": 21,
   "metadata": {
    "collapsed": true
   },
   "outputs": [],
   "source": [
    "# code to create new colum for chronically sick\n",
    "# solutions branch used chronically sick as >10 days sick\n",
    "# use np.where, create column with 0,1 values\n"
   ]
  },
  {
   "cell_type": "code",
   "execution_count": 22,
   "metadata": {
    "collapsed": false
   },
   "outputs": [
    {
     "data": {
      "text/plain": [
       "count    5077.000000\n",
       "mean       22.513098\n",
       "std         8.095378\n",
       "min        10.000000\n",
       "25%        15.000000\n",
       "50%        27.000000\n",
       "75%        30.000000\n",
       "max        30.000000\n",
       "Name: PHYSHLTH, dtype: float64"
      ]
     },
     "execution_count": 22,
     "metadata": {},
     "output_type": "execute_result"
    }
   ],
   "source": [
    "# Without np.where ---Why are values different?---\n",
    "test = (df['PHYSHLTH'] >= 10)\n",
    "\n",
    "df[test]['PHYSHLTH'].describe()"
   ]
  },
  {
   "cell_type": "code",
   "execution_count": 23,
   "metadata": {
    "collapsed": false
   },
   "outputs": [
    {
     "name": "stdout",
     "output_type": "stream",
     "text": [
      "PHYSHLTH    0.0\n",
      "Name: 49938, dtype: float64\n",
      "PHYSHLTH    0.0\n",
      "Name: 49939, dtype: float64\n",
      "PHYSHLTH    2.0\n",
      "Name: 49940, dtype: float64\n",
      "PHYSHLTH    0.0\n",
      "Name: 49941, dtype: float64\n",
      "PHYSHLTH    0.0\n",
      "Name: 49942, dtype: float64\n"
     ]
    }
   ],
   "source": [
    "# With np.where ---Why are values different?---\n",
    "chronically_sick = np.where(df['PHYSHLTH'] > 10, 1, 0)\n",
    "df['CHRONSICK'] = chronically_sick\n",
    "\n",
    "for index, row in df[['PHYSHLTH']].head().iterrows():\n",
    "    print (row)"
   ]
  },
  {
   "cell_type": "code",
   "execution_count": null,
   "metadata": {
    "collapsed": false
   },
   "outputs": [],
   "source": []
  },
  {
   "cell_type": "markdown",
   "metadata": {},
   "source": [
    "## 5. Create a graphic that compares the percentage of people labeled as 'sick' in each state. "
   ]
  },
  {
   "cell_type": "code",
   "execution_count": 24,
   "metadata": {
    "collapsed": true
   },
   "outputs": [],
   "source": [
    "# Code to calculate averages per state"
   ]
  },
  {
   "cell_type": "code",
   "execution_count": 25,
   "metadata": {
    "collapsed": false
   },
   "outputs": [
    {
     "data": {
      "text/plain": [
       "_STATE\n",
       "CT    0.112864\n",
       "NJ    0.136317\n",
       "NY    0.125316\n",
       "Name: CHRONSICK, dtype: float64"
      ]
     },
     "execution_count": 25,
     "metadata": {},
     "output_type": "execute_result"
    }
   ],
   "source": [
    "# Using main df\n",
    "df.groupby('_STATE')['CHRONSICK'].mean()"
   ]
  },
  {
   "cell_type": "code",
   "execution_count": 26,
   "metadata": {
    "collapsed": false
   },
   "outputs": [],
   "source": [
    "# # Using state dfs\n",
    "# test2 = [df_ct['CHRONSICK'].mean(),\n",
    "#         df_nj['CHRONSICK'].mean(),\n",
    "#         df_ny['CHRONSICK'].mean()]\n",
    "\n",
    "# test2"
   ]
  },
  {
   "cell_type": "code",
   "execution_count": 27,
   "metadata": {
    "collapsed": true
   },
   "outputs": [],
   "source": [
    "# Create graphic to compare chronically sick by state"
   ]
  },
  {
   "cell_type": "code",
   "execution_count": 28,
   "metadata": {
    "collapsed": false
   },
   "outputs": [
    {
     "data": {
      "image/png": "[encoded data removed]",
      "text/plain": [
       "<matplotlib.figure.Figure at 0x118dfb7f0>"
      ]
     },
     "metadata": {},
     "output_type": "display_data"
    }
   ],
   "source": [
    "(df.groupby('_STATE')['CHRONSICK'].mean()*100).plot(kind='bar')\n",
    "plt.title('Percentage of Participants\\nChronically Sick By State')\n",
    "plt.xlabel('State')\n",
    "plt.ylabel('Percentage')\n",
    "plt.show()"
   ]
  },
  {
   "cell_type": "markdown",
   "metadata": {},
   "source": [
    "## 6. Independent Variables (categorical)\n",
    "\n",
    "Does smoking affect the number of days people feel physically ill? \n",
    "Let's take the column `SMOKDAY2` and start to prepare it so that we can see how it is possibly correlated to `PHYSHLTH`. When cleaning this data you will find that many respondents were not asked that question. read the codebook to understand why, and use that information when cleaning up your data. I.E, you will need to process two columns in order to create a new column of smokers.\n",
    "\n",
    "1. Clean up the values.\n",
    "2. Calculate the descriptive statistics of the variable.\n",
    "3. Generate a histogram for the variable.\n",
    "4. Generate graphics that show how the responses to this variable might differ by state.\n",
    "5. Generate a graphic that compares the physical health of the different groups of 'smokers'."
   ]
  },
  {
   "cell_type": "code",
   "execution_count": 29,
   "metadata": {
    "collapsed": false
   },
   "outputs": [
    {
     "data": {
      "text/plain": [
       "2.0    19087\n",
       "1.0    13795\n",
       "7.0      174\n",
       "9.0       51\n",
       "Name: SMOKE100, dtype: int64"
      ]
     },
     "execution_count": 29,
     "metadata": {},
     "output_type": "execute_result"
    }
   ],
   "source": [
    "df['SMOKE100'].value_counts()"
   ]
  },
  {
   "cell_type": "code",
   "execution_count": 30,
   "metadata": {
    "collapsed": true
   },
   "outputs": [],
   "source": [
    "df2 = df"
   ]
  },
  {
   "cell_type": "code",
   "execution_count": 31,
   "metadata": {
    "collapsed": true
   },
   "outputs": [],
   "source": [
    "df2['SMOKE100_NO'] = np.where(df['SMOKE100'] == 2.0, 1, 0)\n",
    "df2['SMOKE100_NA'] = np.where(df['SMOKE100'].isin([7.0, 9.0]), 1, 0)"
   ]
  },
  {
   "cell_type": "code",
   "execution_count": 32,
   "metadata": {
    "collapsed": true
   },
   "outputs": [],
   "source": [
    "# your code here"
   ]
  },
  {
   "cell_type": "code",
   "execution_count": 33,
   "metadata": {
    "collapsed": true
   },
   "outputs": [],
   "source": [
    "# code to graph those proportion of differen smoking groups using matplotlib\n"
   ]
  },
  {
   "cell_type": "code",
   "execution_count": 34,
   "metadata": {
    "collapsed": true
   },
   "outputs": [],
   "source": [
    "# your code here"
   ]
  },
  {
   "cell_type": "code",
   "execution_count": 35,
   "metadata": {
    "collapsed": true
   },
   "outputs": [],
   "source": [
    "#graph showing the breakdown of smokers per state"
   ]
  },
  {
   "cell_type": "code",
   "execution_count": 36,
   "metadata": {
    "collapsed": true
   },
   "outputs": [],
   "source": [
    "# code to graph these averages sick days for each category of smoking status"
   ]
  },
  {
   "cell_type": "markdown",
   "metadata": {},
   "source": [
    "## 7. Independent Variables (continuous):\n",
    "\n",
    "Does the amount of days a person drinks affect the number of days they feel physically ill?\n",
    "To investigate this, let's look at a continuous variable (ALCDAY5) and see how that might impact a person's health. \n",
    "\n",
    "1. Clean up the values.\n",
    "2. Calculate the descriptive statistics of the variable.\n",
    "3. Generate a histogram for the variable.\n",
    "4. Generate graphics that show how the responses to this variable might differ by state.\n",
    "5. Calculate the correlation coefficient between `PHYSHLTH` and `ALCDAY5`.\n",
    "5. Generate a graphic that shows the possible relationship between `PHYSHLTH` and `ALCDAY5`."
   ]
  },
  {
   "cell_type": "code",
   "execution_count": 37,
   "metadata": {
    "collapsed": true
   },
   "outputs": [],
   "source": [
    "# code here to clean up the ALCDAY5 responses\n"
   ]
  },
  {
   "cell_type": "code",
   "execution_count": 38,
   "metadata": {
    "collapsed": true
   },
   "outputs": [],
   "source": [
    "#descriptive statistics of cleaned data"
   ]
  },
  {
   "cell_type": "code",
   "execution_count": 39,
   "metadata": {
    "collapsed": true
   },
   "outputs": [],
   "source": [
    "# graphic showing the histogram of data\n"
   ]
  },
  {
   "cell_type": "code",
   "execution_count": 40,
   "metadata": {
    "collapsed": true
   },
   "outputs": [],
   "source": [
    "# code to calculate averages per state\n"
   ]
  },
  {
   "cell_type": "code",
   "execution_count": 41,
   "metadata": {
    "collapsed": true
   },
   "outputs": [],
   "source": [
    "# Code to calculate correlation of between number of dirnks of number of days physically ill"
   ]
  },
  {
   "cell_type": "markdown",
   "metadata": {},
   "source": [
    "## 8. Statistical Inference\n"
   ]
  },
  {
   "cell_type": "markdown",
   "metadata": {},
   "source": [
    "- Create a 95% confidence interval for the population mean of physically ill days."
   ]
  },
  {
   "cell_type": "code",
   "execution_count": 42,
   "metadata": {
    "collapsed": false
   },
   "outputs": [
    {
     "data": {
      "text/plain": [
       "(3.99, 4.18)"
      ]
     },
     "execution_count": 42,
     "metadata": {},
     "output_type": "execute_result"
    }
   ],
   "source": [
    "physhlth_mean = df['PHYSHLTH'].mean()\n",
    "\n",
    "physhlth_low = round(physhlth_mean - 1.96*(8.5/(33747**.5)), 2)\n",
    "physhlth_high = round(physhlth_mean + 1.96*(8.5/(33747**.5)), 2)\n",
    "\n",
    "(physhlth_low, physhlth_high)"
   ]
  },
  {
   "cell_type": "markdown",
   "metadata": {},
   "source": [
    "-  Create a 95% confidence interval for the true proportion of chronically sick people."
   ]
  },
  {
   "cell_type": "code",
   "execution_count": 43,
   "metadata": {
    "collapsed": false
   },
   "outputs": [
    {
     "data": {
      "text/plain": [
       "(0.12, 0.14)"
      ]
     },
     "execution_count": 43,
     "metadata": {},
     "output_type": "execute_result"
    }
   ],
   "source": [
    "# x bar\n",
    "chronsick_mean = df['CHRONSICK'].mean()\n",
    "# n\n",
    "chronsick_sum = df['CHRONSICK'].sum()\n",
    "# sigma\n",
    "chronsick_std = df['CHRONSICK'].std()\n",
    "\n",
    "chronsick_low = round(chronsick_mean - 1.96 * (chronsick_std/(chronsick_sum**.5)), 2)\n",
    "chronsick_high = round(chronsick_mean + 1.96 * (chronsick_std/(chronsick_sum**.5)), 2)\n",
    "\n",
    "(chronsick_low, chronsick_high)"
   ]
  },
  {
   "cell_type": "markdown",
   "metadata": {},
   "source": [
    "## 9. Hypothesis Tests "
   ]
  },
  {
   "cell_type": "markdown",
   "metadata": {},
   "source": [
    "**For the follwing questions that require hypothesis tests, you must complete the following:**\n",
    "\n",
    "*1. Write down the null and alternative hypothesis you are testing.* \n",
    "\n",
    "*2. Select the appropriate test and calculate the test statistic and P-values.*\n",
    "\n",
    "*3. Determine the critical value for the 95% confidence interval.*\n",
    "\n",
    "*4. Evaluate the test statistic agains the critical value.*\n",
    "\n",
    "*5. Determine if you reject or fail to reject the null hypothesis and write a sentence explaining the results of your hypothesis test.*  "
   ]
  },
  {
   "cell_type": "markdown",
   "metadata": {},
   "source": [
    "### The following questions are regarding the `PHYSHLTH` variable. \n",
    "- What is the probability of getting this sample mean for days physically ill, if the population mean is 4?\n",
    "- Is there a statistically significant difference between men and women in the number of days a person feels phsyically ill?\n",
    "- Perform a statistical test to determine if there statistically significant difference is physical health of people from the three states. \n"
   ]
  },
  {
   "cell_type": "code",
   "execution_count": 50,
   "metadata": {
    "collapsed": false
   },
   "outputs": [
    {
     "data": {
      "text/plain": [
       "0.96878078439269089"
      ]
     },
     "execution_count": 50,
     "metadata": {},
     "output_type": "execute_result"
    }
   ],
   "source": [
    "# What is the probability of getting this sample mean for days physically ill, if the population mean is 4?\n",
    "\n",
    "# Find z score for 4\n",
    "# z = value - mean / std\n",
    "physhlth_std = df['PHYSHLTH'].std()\n",
    "n = len(df['PHYSHLTH'])\n",
    "\n",
    "physhlth_z = (physhlth_mean - 4)/(physhlth_std/(math.sqrt(n)))\n",
    "# from z table\n",
    "#physhlth_prob = .0312\n",
    "stats.norm.cdf(physhlth_z)"
   ]
  },
  {
   "cell_type": "code",
   "execution_count": 51,
   "metadata": {
    "collapsed": false
   },
   "outputs": [
    {
     "data": {
      "text/plain": [
       "1.8631694383925375"
      ]
     },
     "execution_count": 51,
     "metadata": {},
     "output_type": "execute_result"
    }
   ],
   "source": [
    "physhlth_z"
   ]
  },
  {
   "cell_type": "code",
   "execution_count": null,
   "metadata": {
    "collapsed": false
   },
   "outputs": [],
   "source": [
    "scs.norm.cdf(physhlth_z)"
   ]
  },
  {
   "cell_type": "code",
   "execution_count": null,
   "metadata": {
    "collapsed": true,
    "scrolled": true
   },
   "outputs": [],
   "source": [
    "# Is there a statistically significant difference between men and women in the number of days a person feels phsyically ill?"
   ]
  },
  {
   "cell_type": "code",
   "execution_count": null,
   "metadata": {
    "collapsed": true
   },
   "outputs": [],
   "source": [
    "df['SICK'] = np.where(df['PHYSHLTH'] > 0, 1, 0)\n",
    "\n",
    "male = df[df['SEX'] == 1]\n",
    "male_sum = male['SICK'].sum()\n",
    "male_pct = male_sum / len(male)\n",
    "\n",
    "female = df[df['SEX'] == 2]\n",
    "female_sum = female['SICK'].sum()\n",
    "female_pct = female_sum / len(female)"
   ]
  },
  {
   "cell_type": "code",
   "execution_count": null,
   "metadata": {
    "collapsed": false
   },
   "outputs": [],
   "source": [
    "# Male vs female\n",
    "\n",
    "# Portion of Success\n",
    "p_m_f = (male_sum + female_sum) / (len(male) + len(female))\n",
    "\n",
    "# Z Score\n",
    "(male_pct - female_pct) / math.sqrt(p_m_f * (1 - p_m_f) * (1 / len(male) + 1 / len(female)))"
   ]
  },
  {
   "cell_type": "code",
   "execution_count": null,
   "metadata": {
    "collapsed": false
   },
   "outputs": [],
   "source": [
    "# T Score\n",
    "(male_pct - female_pct) / math.sqrt((male['SICK'].std()**2 / len(male)) + (female['SICK'].std()**2 / len(female)))"
   ]
  },
  {
   "cell_type": "markdown",
   "metadata": {},
   "source": [
    "\\begin{array}{l}\\qquad t=\\frac{\\bar{X}_{1}-\\bar{X}_{2}}{s_{\\bar{\\Delta}}} \\\\ \\text { where } \\\\ \\qquad s_{\\bar{\\Delta}}=\\sqrt{\\frac{s_{1}^{2}}{n_{1}}+\\frac{s_{2}^{2}}{n_{2}}} \\\\ \\end{array}"
   ]
  },
  {
   "cell_type": "code",
   "execution_count": null,
   "metadata": {
    "collapsed": true
   },
   "outputs": [],
   "source": [
    "male_n = len(male)\n",
    "female_n = len(female)\n",
    "male_s = male['PHYSHLTH'].std()\n",
    "female_s = female['PHYSHLTH'].std()\n",
    "male_x = male['PHYSHLTH'].mean()\n",
    "female_x = female['PHYSHLTH'].mean()"
   ]
  },
  {
   "cell_type": "code",
   "execution_count": null,
   "metadata": {
    "collapsed": false,
    "scrolled": true
   },
   "outputs": [],
   "source": [
    "male_n, female_n, male_s, female_s"
   ]
  },
  {
   "cell_type": "code",
   "execution_count": null,
   "metadata": {
    "collapsed": false
   },
   "outputs": [],
   "source": [
    "sp = math.sqrt(((male_n-1)*(male_s**2) + (female_n-1)*(female_s**2)) / (male_n+female_n-2))  \n",
    "#((male_n-1)*(male_s**2) + (female_n-1)*(female_s**2)) / (male_n+female_n-2)"
   ]
  },
  {
   "cell_type": "code",
   "execution_count": null,
   "metadata": {
    "collapsed": false
   },
   "outputs": [],
   "source": [
    "male_x, female_x"
   ]
  },
  {
   "cell_type": "code",
   "execution_count": null,
   "metadata": {
    "collapsed": false
   },
   "outputs": [],
   "source": [
    "(male_x - female_x) / (sp*(math.sqrt(1/male_n + 1/female_n)))"
   ]
  },
  {
   "cell_type": "code",
   "execution_count": null,
   "metadata": {
    "collapsed": false
   },
   "outputs": [],
   "source": [
    "(sp*(math.sqrt(1/male_n + 1/female_n)))\n"
   ]
  },
  {
   "cell_type": "code",
   "execution_count": null,
   "metadata": {
    "collapsed": true
   },
   "outputs": [],
   "source": [
    "# Perform a statistical test to determine if there statistically significant difference in physical health of people from the three states. "
   ]
  },
  {
   "cell_type": "markdown",
   "metadata": {},
   "source": [
    "- Null Hypothesis: There is no statistical difference in physical health of people between the three states.\n",
    "- Alt Hypothesis: There is a statistical difference '    '."
   ]
  },
  {
   "cell_type": "code",
   "execution_count": null,
   "metadata": {
    "collapsed": false
   },
   "outputs": [],
   "source": [
    "CT = df[df['_STATE'] == 'CT']\n",
    "#CT['SICK'] = np.where(CT['PHYSHLTH'] > 0, 1, 0)\n",
    "CT_sum = CT['SICK'].sum()\n",
    "CT_pct = CT_sum / len(CT)\n",
    "\n",
    "NJ = df[df['_STATE'] == 'NJ']\n",
    "#NJ['SICK'] = np.where(NJ['PHYSHLTH'] > 0, 1, 0)\n",
    "NJ_sum = NJ['SICK'].sum()\n",
    "NJ_pct = NJ_sum / len(NJ)\n",
    "\n",
    "NY = df[df['_STATE'] == 'NY']\n",
    "#NY['SICK'] = np.where(NY['PHYSHLTH'] > 0, 1, 0)\n",
    "NY_sum = NY['SICK'].sum()\n",
    "NY_pct = NY_sum / len(NY)"
   ]
  },
  {
   "cell_type": "code",
   "execution_count": null,
   "metadata": {
    "collapsed": false
   },
   "outputs": [],
   "source": [
    "# CT vs NJ\n",
    "\n",
    "# Portion of Success\n",
    "p_CT_NJ = (CT_sum + NJ_sum)/(len(CT) + len(NJ))\n",
    "\n",
    "# Z Score\n",
    "(CT_pct - NJ_pct) / math.sqrt(p_CT_NJ * (1 - p_CT_NJ) * (1 / len(CT) + 1 / len(NJ)))\n",
    "\n",
    "# .03438 or 3.438 %\n",
    "# Fail to reject the null hypothesis"
   ]
  },
  {
   "cell_type": "code",
   "execution_count": null,
   "metadata": {
    "collapsed": false
   },
   "outputs": [],
   "source": [
    "# CT vs NY\n",
    "\n",
    "# Portion of Success\n",
    "p_CT_NY = (CT_sum + NY_sum)/(len(CT) + len(NY))\n",
    "\n",
    "# Z Score\n",
    "(CT_pct - NY_pct) / math.sqrt(p_CT_NY * (1 - p_CT_NY) * (1 / len(CT) + 1 / len(NY)))\n",
    "\n",
    "# \n",
    "# Fail to reject the null hypothesis"
   ]
  },
  {
   "cell_type": "code",
   "execution_count": null,
   "metadata": {
    "collapsed": false
   },
   "outputs": [],
   "source": [
    "# NJ vs NY\n",
    "\n",
    "# Portion of Success\n",
    "p_NJ_NY = (NJ_sum + NY_sum)/(len(NJ) + len(NY))\n",
    "\n",
    "# Z Score\n",
    "(NJ_pct - NY_pct) / math.sqrt(p_NJ_NY * (1 - p_NJ_NY) * (1 / len(NJ) + 1 / len(NY)))"
   ]
  },
  {
   "cell_type": "markdown",
   "metadata": {},
   "source": [
    "$\\hat{p}=\\dfrac{Y_1+Y_2}{n_1+n_2}$"
   ]
  },
  {
   "cell_type": "markdown",
   "metadata": {},
   "source": [
    "$Z=\\dfrac{(\\hat{p}_1-\\hat{p}_2)-0}{\\sqrt{\\hat{p}(1-\\hat{p})\\left(\\dfrac{1}{n_1}+\\dfrac{1}{n_2}\\right)}}$"
   ]
  },
  {
   "cell_type": "markdown",
   "metadata": {},
   "source": [
    "### The following questions are regarding the  `CHRONIC` variable.\n",
    "- What is the probability of drawing this sample proportion if chronically true population proportion is 0.10?\n",
    "- Is there a statistically significant difference in the percentage of men and women who are chronically sick?\n",
    "- Perform a statistical test to determine if there statistically significant difference is physical health of people from the three states."
   ]
  },
  {
   "cell_type": "code",
   "execution_count": null,
   "metadata": {
    "collapsed": true
   },
   "outputs": [],
   "source": [
    "# What is the probability of drawing this sample proportion if chronically true population proportion is 0.10?"
   ]
  },
  {
   "cell_type": "code",
   "execution_count": null,
   "metadata": {
    "collapsed": false
   },
   "outputs": [],
   "source": [
    "# x bar\n",
    "chronsick_mean = df['CHRONSICK'].mean()\n",
    "# n\n",
    "chronsick_sum = df['CHRONSICK'].sum()\n",
    "# sigma\n",
    "chronsick_std = df['CHRONSICK'].std()\n",
    "\n",
    "chronsick_low = round(chronsick_mean - 1.96 * (chronsick_std/(chronsick_sum**.5)), 2)\n",
    "chronsick_high = round(chronsick_mean + 1.96 * (chronsick_std/(chronsick_sum**.5)), 2)\n",
    "\n",
    "(chronsick_low, chronsick_high)"
   ]
  },
  {
   "cell_type": "code",
   "execution_count": null,
   "metadata": {
    "collapsed": false
   },
   "outputs": [],
   "source": [
    "df['CHRONSICK']"
   ]
  },
  {
   "cell_type": "code",
   "execution_count": null,
   "metadata": {
    "collapsed": false,
    "scrolled": true
   },
   "outputs": [],
   "source": [
    "# Find z score for 4\n",
    "# z = value - mean / std\n",
    "chron_mean = df['CHRONSICK'].mean()\n",
    "n=len(df['CHRONSICK'])\n",
    "p_pop = .10\n",
    "chron_std = df['CHRONSICK'].std()\n",
    "\n",
    "chron_z = (chron_mean - p_pop)/math.sqrt((p_pop*(1-p_pop))/n)\n",
    "# from z table\n",
    "#chron_prob = .47210"
   ]
  },
  {
   "cell_type": "code",
   "execution_count": null,
   "metadata": {
    "collapsed": false
   },
   "outputs": [],
   "source": [
    "chron_z"
   ]
  },
  {
   "cell_type": "code",
   "execution_count": null,
   "metadata": {
    "collapsed": false
   },
   "outputs": [],
   "source": [
    "scs.norm.cdf(17.3)"
   ]
  },
  {
   "cell_type": "code",
   "execution_count": null,
   "metadata": {
    "collapsed": true
   },
   "outputs": [],
   "source": [
    "# Is there a statistically significant difference in the percentage of men and women who are chronically sick?"
   ]
  },
  {
   "cell_type": "code",
   "execution_count": null,
   "metadata": {
    "collapsed": true
   },
   "outputs": [],
   "source": [
    "male = df[df['SEX'] == 1]\n",
    "males_sum = male['CHRONSICK'].sum()\n",
    "males_pct = males_sum / len(male)\n",
    "\n",
    "female = df[df['SEX'] == 2]\n",
    "females_sum = female['CHRONSICK'].sum()\n",
    "females_pct = females_sum / len(female)"
   ]
  },
  {
   "cell_type": "code",
   "execution_count": null,
   "metadata": {
    "collapsed": false,
    "scrolled": true
   },
   "outputs": [],
   "source": [
    "# Male vs female\n",
    "\n",
    "# Portion of Success\n",
    "p_m_f = (males_sum + females_sum) / (len(male) + len(female))\n",
    "\n",
    "# Z Score\n",
    "(males_pct - females_pct) / math.sqrt(p_m_f * (1 - p_m_f) * (1 / len(male) + 1 / len(female)))"
   ]
  },
  {
   "cell_type": "code",
   "execution_count": null,
   "metadata": {
    "collapsed": true
   },
   "outputs": [],
   "source": []
  },
  {
   "cell_type": "code",
   "execution_count": null,
   "metadata": {
    "collapsed": true
   },
   "outputs": [],
   "source": [
    "# Perform a statistical test to determine if there statistically significant difference is physical health of people from the three states."
   ]
  },
  {
   "cell_type": "code",
   "execution_count": null,
   "metadata": {
    "collapsed": true
   },
   "outputs": [],
   "source": [
    "CT = df[df['_STATE'] == 'CT']\n",
    "#CT['SICK'] = np.where(CT['PHYSHLTH'] > 0, 1, 0)\n",
    "CTc_sum = CT['CHRONSICK'].sum()\n",
    "CTc_pct = CTc_sum / len(CT)\n",
    "\n",
    "NJ = df[df['_STATE'] == 'NJ']\n",
    "#NJ['SICK'] = np.where(NJ['PHYSHLTH'] > 0, 1, 0)\n",
    "NJc_sum = NJ['CHRONSICK'].sum()\n",
    "NJc_pct = NJc_sum / len(NJ)\n",
    "\n",
    "NY = df[df['_STATE'] == 'NY']\n",
    "#NY['SICK'] = np.where(NY['PHYSHLTH'] > 0, 1, 0)\n",
    "NYc_sum = NY['CHRONSICK'].sum()\n",
    "NYc_pct = NYc_sum / len(NY)"
   ]
  },
  {
   "cell_type": "code",
   "execution_count": null,
   "metadata": {
    "collapsed": false
   },
   "outputs": [],
   "source": [
    "# CT vs NJ\n",
    "\n",
    "# Portion of Success\n",
    "pc_CT_NJ = (CTc_sum + NJc_sum)/(len(CT) + len(NJ))\n",
    "\n",
    "# Z Score\n",
    "(CTc_pct - NJc_pct) / math.sqrt(pc_CT_NJ * (1 - pc_CT_NJ) * (1 / len(CT) + 1 / len(NJ)))\n",
    "\n",
    "# .03438 or 3.438 %\n",
    "# Fail to reject the null hypothesis"
   ]
  },
  {
   "cell_type": "code",
   "execution_count": null,
   "metadata": {
    "collapsed": false
   },
   "outputs": [],
   "source": [
    "# CT vs NY\n",
    "\n",
    "# Portion of Success\n",
    "pc_CT_NY = (CTc_sum + NYc_sum)/(len(CT) + len(NY))\n",
    "\n",
    "# Z Score\n",
    "(CTc_pct - NYc_pct) / math.sqrt(pc_CT_NY * (1 - pc_CT_NY) * (1 / len(CT) + 1 / len(NY)))\n",
    "\n",
    "# \n",
    "# Fail to reject the null hypothesis"
   ]
  },
  {
   "cell_type": "code",
   "execution_count": null,
   "metadata": {
    "collapsed": true
   },
   "outputs": [],
   "source": [
    "import scipy.stats as scs\n",
    "#scs.norm.cdf(z-score)"
   ]
  },
  {
   "cell_type": "code",
   "execution_count": null,
   "metadata": {
    "collapsed": false
   },
   "outputs": [],
   "source": [
    "# NJ vs NY\n",
    "\n",
    "# Portion of Success\n",
    "pc_NJ_NY = (NJc_sum + NYc_sum)/(len(NJ) + len(NY))\n",
    "\n",
    "# Z Score\n",
    "z =(NJc_pct - NYc_pct) / math.sqrt(pc_NJ_NY * (1 - p_NJ_NY) * (1 / len(NJ) + 1 / len(NY)))\n",
    "z"
   ]
  },
  {
   "cell_type": "code",
   "execution_count": null,
   "metadata": {
    "collapsed": true
   },
   "outputs": [],
   "source": []
  },
  {
   "cell_type": "code",
   "execution_count": null,
   "metadata": {
    "collapsed": false
   },
   "outputs": [],
   "source": [
    "scs.norm.cdf(z)"
   ]
  },
  {
   "cell_type": "markdown",
   "metadata": {},
   "source": [
    "# 10. Independent Investigation\n",
    "\n",
    "Now that you have invesitgated physical health and chronic sickness and their relationships with states and gender, you will conduct a similar investigation with variables of your choosing. \n",
    "\n",
    "Select a continuous dependent varaible and a binary dependent variable that you would like to investigate. Then select a categorical independent variable with at least 3 groups and for which you will test to see if the response to the independent variable affects outcomes of the dependent variable."
   ]
  },
  {
   "cell_type": "markdown",
   "metadata": {},
   "source": [
    "For your continuous dependent variable perform the following:\n",
    "  - Determine the sample mean and sample standard deviation\n",
    "  - Create a confidence interval for a population mean.\n",
    "  - Perform a two-sample test of means for gender.\n",
    "  - Perform a one-way ANOVA using your categorical independent variable."
   ]
  },
  {
   "cell_type": "code",
   "execution_count": null,
   "metadata": {
    "collapsed": false
   },
   "outputs": [],
   "source": [
    "#How many times a day do you eat fries?\n",
    "\n",
    "#df['FRNCHDA_'] = df['FRNCHDA_'].map(lambda x: x*.01)\n",
    "#df['FRNCHDA_'].sort_values(ascending=0)\n",
    "df['FRNCHDA_'].dropna(inplace=True)"
   ]
  },
  {
   "cell_type": "code",
   "execution_count": null,
   "metadata": {
    "collapsed": false,
    "scrolled": true
   },
   "outputs": [],
   "source": [
    "#Determine the sample mean and sample standard deviation\n",
    "df['FRNCHDA_'].describe()"
   ]
  },
  {
   "cell_type": "code",
   "execution_count": null,
   "metadata": {
    "collapsed": false
   },
   "outputs": [],
   "source": [
    "#Create a confidence interval for a population mean.\n",
    "# x bar\n",
    "fries_mean = df['FRNCHDA_'].mean()\n",
    "# n\n",
    "fries_sum = df['FRNCHDA_'].sum()\n",
    "# sigma\n",
    "fries_std = df['FRNCHDA_'].std()\n",
    "\n",
    "fries_low = round(fries_mean - 1.96 * (fries_std/(fries_sum**.5)), 2)\n",
    "fries_high = round(fries_mean + 1.96 * (fries_std/(fries_sum**.5)), 2)\n",
    "\n",
    "(fries_low, fries_high)"
   ]
  },
  {
   "cell_type": "code",
   "execution_count": null,
   "metadata": {
    "collapsed": false
   },
   "outputs": [],
   "source": [
    "#Perform a two-sample test of means for gender.\n",
    "#Hypo 0: There is no significant statistical difference between gender for french fries eaten per day\n",
    "#Hypo A: There is a significant statistical difference between gender for french fries eaten per day\n",
    "\n",
    "\n",
    "fr_male_n = len(male)\n",
    "fr_female_n = len(female)\n",
    "fr_male_s = male['FRNCHDA_'].std()\n",
    "fr_female_s = female['FRNCHDA_'].std()\n",
    "fr_male_x = male['FRNCHDA_'].mean()\n",
    "fr_female_x = female['FRNCHDA_'].mean()\n",
    "\n",
    "sp = math.sqrt(((fr_male_n-1)*(fr_male_s**2) + (fr_female_n-1)*(fr_female_s**2)) / (fr_male_n+fr_female_n-2))  \n",
    "#((male_n-1)*(male_s**2) + (female_n-1)*(female_s**2)) / (male_n+female_n-2)\n",
    "\n",
    "(fr_male_x - fr_female_x) / (sp*(math.sqrt(1/fr_male_n + 1/fr_female_n)))"
   ]
  },
  {
   "cell_type": "code",
   "execution_count": 46,
   "metadata": {
    "collapsed": true
   },
   "outputs": [],
   "source": [
    "import scipy.stats as stats"
   ]
  },
  {
   "cell_type": "code",
   "execution_count": null,
   "metadata": {
    "collapsed": false
   },
   "outputs": [],
   "source": [
    "from statsmodels.formula.api import ols\n",
    "import statsmodels.api as sm\n",
    "#Perform a one-way ANOVA using your categorical independent variable."
   ]
  },
  {
   "cell_type": "code",
   "execution_count": null,
   "metadata": {
    "collapsed": false
   },
   "outputs": [],
   "source": [
    "#Hypo 0: There is no significant statistical difference between the States for french fries eaten per day\n",
    "#Hypo A: There is a significant statistical difference between the States for french fries eaten per day\n",
    "\n",
    "# why can we use ols in this case?\n",
    "anova_french = ols('FRNCHDA_~_STATE',data=df).fit()"
   ]
  },
  {
   "cell_type": "code",
   "execution_count": null,
   "metadata": {
    "collapsed": false
   },
   "outputs": [],
   "source": [
    "anova_french.summary()"
   ]
  },
  {
   "cell_type": "markdown",
   "metadata": {},
   "source": [
    "Select/create a binary variable from the survey questions as you dependent variable and perform the following:\n",
    "  - Create a confidence interval for a population proportion.\n",
    "  - Perform a two proportions z-test using gender.\n",
    "  - Perform a Chi-Square test using your categorical independent variable."
   ]
  },
  {
   "cell_type": "code",
   "execution_count": null,
   "metadata": {
    "collapsed": true
   },
   "outputs": [],
   "source": [
    "#Null Hypo: No statistical health difference between the three states for pneumonia vaccines\n",
    "#Alt Hypo: The null hypothesis is incorrect"
   ]
  },
  {
   "cell_type": "code",
   "execution_count": null,
   "metadata": {
    "collapsed": true
   },
   "outputs": [],
   "source": [
    "pn_df = df\n",
    "\n",
    "p_dict = {9:np.nan}\n",
    "pn_df['_PNEUMO2'].replace(p_dict, inplace=True)\n",
    "\n",
    "pn_df['_PNEUMO2'].dropna(inplace=True)\n",
    "\n",
    "pn_df['_PNEUMO2'].replace({2:0}, inplace=True)\n",
    "\n",
    "pn_CT = pn_df[pn_df['_STATE'] == 'CT']\n",
    "pn_NJ = pn_df[pn_df['_STATE'] == 'NJ']\n",
    "pn_NY = pn_df[pn_df['_STATE'] == 'NY']"
   ]
  },
  {
   "cell_type": "code",
   "execution_count": null,
   "metadata": {
    "collapsed": false
   },
   "outputs": [],
   "source": [
    "#Create a confidence interval for a population proportion. - '_PNEUMO2'\n",
    "\n",
    "# x bar\n",
    "pn_mean = pn_df['_PNEUMO2'].mean()\n",
    "# n\n",
    "pn_sum = pn_df['_PNEUMO2'].sum()\n",
    "# sigma\n",
    "pn_std = df['_PNEUMO2'].std()\n",
    "\n",
    "pn_low = round(pn_mean - 1.96 * (pn_std/(pn_sum**.5)), 2)\n",
    "pn_high = round(pn_mean + 1.96 * (pn_std/(pn_sum**.5)), 2)\n",
    "\n",
    "(pn_low, pn_high)"
   ]
  },
  {
   "cell_type": "code",
   "execution_count": null,
   "metadata": {
    "collapsed": true
   },
   "outputs": [],
   "source": [
    "#Perform a two proportions z-test using gender.\n",
    "\n",
    "\n",
    "pn_male = pn_df[pn_df['SEX'] == 1]\n",
    "pn_males_sum = pn_male['_PNEUMO2'].sum()\n",
    "pn_males_pct = pn_males_sum / len(pn_male)\n",
    "\n",
    "pn_female = pn_df[pn_df['SEX'] == 2]\n",
    "pn_females_sum = pn_female['_PNEUMO2'].sum()\n",
    "pn_females_pct = pn_females_sum / len(pn_female)"
   ]
  },
  {
   "cell_type": "code",
   "execution_count": null,
   "metadata": {
    "collapsed": false
   },
   "outputs": [],
   "source": [
    "# Male vs female\n",
    "\n",
    "# Portion of Success\n",
    "pn_m_f = (pn_males_sum + pn_females_sum) / len(pn_df)\n",
    "\n",
    "# Z Score\n",
    "pn_z = (pn_males_pct - pn_females_pct) / math.sqrt(pn_m_f * (1 - pn_m_f) * (1 / len(pn_male) + 1 / len(pn_female)))"
   ]
  },
  {
   "cell_type": "code",
   "execution_count": null,
   "metadata": {
    "collapsed": false
   },
   "outputs": [],
   "source": [
    "scs.norm.cdf(pn_z)"
   ]
  },
  {
   "cell_type": "code",
   "execution_count": null,
   "metadata": {
    "collapsed": false
   },
   "outputs": [],
   "source": [
    "pn_CT['_PNEUMO2'].sum()"
   ]
  },
  {
   "cell_type": "code",
   "execution_count": null,
   "metadata": {
    "collapsed": false
   },
   "outputs": [],
   "source": [
    "#Perform a Chi-Square test using your categorical independent variable.\n",
    "\n",
    "pn_ct_sum = pn_CT['_PNEUMO2'].sum()\n",
    "pn_nj_sum = pn_NJ['_PNEUMO2'].sum()\n",
    "pn_ny_sum = pn_NY['_PNEUMO2'].sum()\n",
    "ct_nope = len(pn_CT) - pn_ct_sum\n",
    "nj_nope = len(pn_NJ) - pn_nj_sum\n",
    "ny_nope = len(pn_NY) - pn_ny_sum"
   ]
  },
  {
   "cell_type": "code",
   "execution_count": null,
   "metadata": {
    "collapsed": true
   },
   "outputs": [],
   "source": [
    "pn_chi = {'CT': [pn_ct_sum, ct_nope], 'NJ': [pn_nj_sum, nj_nope], 'NY': [pn_ny_sum, ny_nope]}"
   ]
  },
  {
   "cell_type": "code",
   "execution_count": null,
   "metadata": {
    "collapsed": false
   },
   "outputs": [],
   "source": [
    "pn_chi = pd.DataFrame(pn_chi, index=['pneumo','no_pneumo'])"
   ]
  },
  {
   "cell_type": "code",
   "execution_count": null,
   "metadata": {
    "collapsed": false,
    "scrolled": true
   },
   "outputs": [],
   "source": [
    "pn_chi"
   ]
  },
  {
   "cell_type": "code",
   "execution_count": null,
   "metadata": {
    "collapsed": false
   },
   "outputs": [],
   "source": [
    "#pn_chi.iloc[:,0]"
   ]
  },
  {
   "cell_type": "code",
   "execution_count": null,
   "metadata": {
    "collapsed": false
   },
   "outputs": [],
   "source": [
    "#pn_chi.iloc[0,:]"
   ]
  },
  {
   "cell_type": "code",
   "execution_count": null,
   "metadata": {
    "collapsed": true
   },
   "outputs": [],
   "source": [
    "row1 = pn_chi.iloc[0,:].sum()\n",
    "row2 = pn_chi.iloc[1,:].sum()\n",
    "col1 = pn_chi.iloc[:,0].sum()\n",
    "col2 = pn_chi.iloc[:,1].sum()\n",
    "col3 = pn_chi.iloc[:,2].sum()\n",
    "sample = sum([row1, row2])"
   ]
  },
  {
   "cell_type": "code",
   "execution_count": null,
   "metadata": {
    "collapsed": false
   },
   "outputs": [],
   "source": [
    "pn_chi.iloc[0,1]"
   ]
  },
  {
   "cell_type": "code",
   "execution_count": null,
   "metadata": {
    "collapsed": true
   },
   "outputs": [],
   "source": [
    "df = (2-1) * (3-1)"
   ]
  },
  {
   "cell_type": "code",
   "execution_count": null,
   "metadata": {
    "collapsed": false
   },
   "outputs": [],
   "source": [
    "#(O-E)**2 / E\n",
    "\n",
    "x_squared = (((pn_chi.iloc[0,0] - (row1*col1/sample))**2)/(row1*col1/sample) +\n",
    "             ((pn_chi.iloc[0,1] - (row1*col2/sample))**2)/(row1*col2/sample) +\n",
    "             ((pn_chi.iloc[0,2] - (row1*col3/sample))**2)/(row1*col3/sample) +\n",
    "             ((pn_chi.iloc[1,0] - (row2*col1/sample))**2)/(row2*col1/sample) +\n",
    "             ((pn_chi.iloc[1,1] - (row2*col2/sample))**2)/(row2*col2/sample) +\n",
    "             ((pn_chi.iloc[1,2] - (row2*col3/sample))**2)/(row2*col3/sample))"
   ]
  },
  {
   "cell_type": "code",
   "execution_count": null,
   "metadata": {
    "collapsed": false
   },
   "outputs": [],
   "source": [
    "x_squared"
   ]
  },
  {
   "cell_type": "code",
   "execution_count": null,
   "metadata": {
    "collapsed": true
   },
   "outputs": [],
   "source": [
    "chi_squared_value = 5.991"
   ]
  }
 ],
 "metadata": {
  "anaconda-cloud": {},
  "kernelspec": {
   "display_name": "Python [Root]",
   "language": "python",
   "name": "Python [Root]"
  },
  "language_info": {
   "codemirror_mode": {
    "name": "ipython",
    "version": 3
   },
   "file_extension": ".py",
   "mimetype": "text/x-python",
   "name": "python",
   "nbconvert_exporter": "python",
   "pygments_lexer": "ipython3",
   "version": "3.5.1"
  }
 },
 "nbformat": 4,
 "nbformat_minor": 2
}
