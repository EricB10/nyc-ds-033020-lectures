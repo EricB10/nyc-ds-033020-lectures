{
 "cells": [
  {
   "cell_type": "markdown",
   "metadata": {},
   "source": [
    "# gensim"
   ]
  },
  {
   "cell_type": "code",
   "execution_count": null,
   "metadata": {},
   "outputs": [],
   "source": [
    "!pip install gensim"
   ]
  },
  {
   "cell_type": "code",
   "execution_count": 1,
   "metadata": {},
   "outputs": [
    {
     "name": "stderr",
     "output_type": "stream",
     "text": [
      "unable to import 'smart_open.gcs', disabling that module\n"
     ]
    }
   ],
   "source": [
    "import numpy as np\n",
    "import warnings\n",
    "warnings.filterwarnings('ignore')\n",
    "\n",
    "%matplotlib inline\n",
    "import matplotlib.pyplot as plt\n",
    "plt.style.use('ggplot')\n",
    "\n",
    "from sklearn.decomposition import PCA\n",
    "\n",
    "from gensim.test.utils import datapath\n",
    "from gensim.models import KeyedVectors\n"
   ]
  },
  {
   "cell_type": "markdown",
   "metadata": {},
   "source": [
    "### load in pretrained word2vec model"
   ]
  },
  {
   "cell_type": "code",
   "execution_count": 3,
   "metadata": {},
   "outputs": [],
   "source": [
    "word2vec = datapath('/Users/mwasserman/programming/nyc-ds-033020-lectures/Mod_5/Deep_NLP/word2vec_100d.txt')\n",
    "\n",
    "model = KeyedVectors.load_word2vec_format(word2vec)"
   ]
  },
  {
   "cell_type": "markdown",
   "metadata": {},
   "source": [
    "##### word similarity "
   ]
  },
  {
   "cell_type": "code",
   "execution_count": 10,
   "metadata": {},
   "outputs": [
    {
     "data": {
      "text/plain": [
       "[('conspiracies', 0.8399481177330017),\n",
       " ('crabchurch', 0.7791687250137329),\n",
       " ('extortion', 0.7708937525749207),\n",
       " ('complicity', 0.76999831199646),\n",
       " ('catilinian', 0.7659637928009033),\n",
       " ('conspiring', 0.7491363286972046),\n",
       " ('murder', 0.7414364218711853),\n",
       " ('bribery', 0.7290879487991333),\n",
       " ('alleged', 0.7282978296279907),\n",
       " ('collusion', 0.7241843342781067)]"
      ]
     },
     "execution_count": 10,
     "metadata": {},
     "output_type": "execute_result"
    }
   ],
   "source": [
    "model.most_similar('conspiracy')"
   ]
  },
  {
   "cell_type": "code",
   "execution_count": 9,
   "metadata": {},
   "outputs": [
    {
     "data": {
      "text/plain": [
       "[('marriott', 0.8348016738891602),\n",
       " ('ritz', 0.7800471782684326),\n",
       " ('wynfrey', 0.7631689310073853),\n",
       " ('sheraton', 0.7620010375976562),\n",
       " ('soreno', 0.7595160007476807),\n",
       " ('hyatt', 0.7538101077079773),\n",
       " ('westin', 0.7486691474914551),\n",
       " ('doubletree', 0.7433996796607971),\n",
       " ('surfcomber', 0.7387865781784058),\n",
       " ('crowne', 0.7363494038581848)]"
      ]
     },
     "execution_count": 9,
     "metadata": {},
     "output_type": "execute_result"
    }
   ],
   "source": [
    "model.most_similar('hilton')"
   ]
  },
  {
   "cell_type": "code",
   "execution_count": 12,
   "metadata": {},
   "outputs": [
    {
     "data": {
      "text/plain": [
       "[('ENTITY/Scythris_inertella', 0.33812209963798523),\n",
       " ('ENTITY/Nola_chlamitulalis', 0.29845255613327026),\n",
       " ('ENTITY/Leiningen-Emichsburg', 0.28835529088974),\n",
       " ('ENTITY/Dichrorampha_gruneriana', 0.27563875913619995),\n",
       " ('ENTITY/:Category:User_ciw-2', 0.2748947739601135),\n",
       " ('ENTITY/1981_in_spaceflight', 0.2745441198348999),\n",
       " ('ENTITY/File:Open_Make_Up_For_Ever_2013_-_Team_-_France_-_01.jpg',\n",
       "  0.2673618495464325),\n",
       " ('ENTITY/Kiyoshi_Abo', 0.26102301478385925),\n",
       " ('ENTITY/Eublemma_pudorina', 0.2567945420742035),\n",
       " ('ENTITY/Janthinea_friwaldskii', 0.2551265358924866)]"
      ]
     },
     "execution_count": 12,
     "metadata": {},
     "output_type": "execute_result"
    }
   ],
   "source": [
    "model.most_similar(negative='swedish')"
   ]
  },
  {
   "cell_type": "markdown",
   "metadata": {},
   "source": [
    "<img src=\"male_female.png\">"
   ]
  },
  {
   "cell_type": "code",
   "execution_count": 13,
   "metadata": {},
   "outputs": [
    {
     "name": "stdout",
     "output_type": "stream",
     "text": [
      "queen: 0.8306\n"
     ]
    }
   ],
   "source": [
    "result = model.most_similar(positive=['woman', 'king'], negative=['man'])\n",
    "print(\"{}: {:.4f}\".format(*result[0]))"
   ]
  },
  {
   "cell_type": "markdown",
   "metadata": {},
   "source": [
    "### analogy"
   ]
  },
  {
   "cell_type": "code",
   "execution_count": 14,
   "metadata": {},
   "outputs": [],
   "source": [
    "def analogy(x1, x2, y1):\n",
    "    result = model.most_similar(positive=[y1, x2], negative=[x1])\n",
    "    return result"
   ]
  },
  {
   "cell_type": "code",
   "execution_count": 15,
   "metadata": {},
   "outputs": [
    {
     "data": {
      "text/plain": [
       "[('australian', 0.876969575881958),\n",
       " ('australians', 0.7480741143226624),\n",
       " ('ENTITY/English_Australians', 0.7214674949645996),\n",
       " ('tasmanian', 0.7200986742973328),\n",
       " ('nsw', 0.709411084651947),\n",
       " ('queensland', 0.6975623965263367),\n",
       " ('ENTITY/Culture_of_Australia', 0.6928346157073975),\n",
       " ('ENTITY/Australian_nationality_law', 0.6912353038787842),\n",
       " ('brataualung', 0.6911287903785706),\n",
       " ('ENTITY/Asian_Australians', 0.6887868642807007)]"
      ]
     },
     "execution_count": 15,
     "metadata": {},
     "output_type": "execute_result"
    }
   ],
   "source": [
    "analogy('japan', 'japanese', 'australia')"
   ]
  },
  {
   "cell_type": "code",
   "execution_count": 16,
   "metadata": {},
   "outputs": [
    {
     "data": {
      "text/plain": [
       "[('ENTITY/Marie_Brizard_et_Roger_International_', 0.704372227191925),\n",
       " ('cognac', 0.6980258226394653),\n",
       " ('ENTITY/Bosteels_Brewery#Pauwel_Kwak', 0.6938354969024658),\n",
       " ('ENTITY/Marie_Brizard_Wine_&_Spirits', 0.685952365398407),\n",
       " (\"ENTITY/Brasserie_d'Achouffe\", 0.6814519762992859),\n",
       " ('ENTITY/Bosteels_Brewery', 0.6809835433959961),\n",
       " ('alvinne', 0.6767335534095764),\n",
       " ('champagne', 0.6696678400039673),\n",
       " ('pommery', 0.6664804816246033),\n",
       " ('karlsbräu', 0.6664777398109436)]"
      ]
     },
     "execution_count": 16,
     "metadata": {},
     "output_type": "execute_result"
    }
   ],
   "source": [
    "analogy('australia', 'beer', 'france')"
   ]
  },
  {
   "cell_type": "code",
   "execution_count": 17,
   "metadata": {},
   "outputs": [
    {
     "data": {
      "text/plain": [
       "[('nixon', 0.7800426483154297),\n",
       " ('kennedy', 0.7232027053833008),\n",
       " ('lyndon', 0.7140451669692993),\n",
       " ('cheney', 0.70884770154953),\n",
       " ('ENTITY/George_H._W._Bush', 0.7082054615020752),\n",
       " ('ENTITY/Gerald_Ford', 0.7006938457489014),\n",
       " ('eisenhower', 0.695790708065033),\n",
       " ('mondale', 0.6919281482696533),\n",
       " ('mcgovern', 0.6915150880813599),\n",
       " ('ENTITY/Ronald_Reagan', 0.6883499026298523)]"
      ]
     },
     "execution_count": 17,
     "metadata": {},
     "output_type": "execute_result"
    }
   ],
   "source": [
    "analogy('obama', 'clinton', 'reagan')"
   ]
  },
  {
   "cell_type": "code",
   "execution_count": 18,
   "metadata": {},
   "outputs": [
    {
     "data": {
      "text/plain": [
       "[('longest', 0.7013919353485107),\n",
       " ('shortest', 0.6812495589256287),\n",
       " ('busiest', 0.6250710487365723),\n",
       " ('skyjackings', 0.5888058543205261),\n",
       " ('southernmost', 0.5763955116271973),\n",
       " ('hkbcf', 0.5760782957077026),\n",
       " ('northernmost', 0.5751603841781616),\n",
       " ('ameralik', 0.573586642742157),\n",
       " ('largest', 0.5719391107559204),\n",
       " ('prior', 0.5631099343299866)]"
      ]
     },
     "execution_count": 18,
     "metadata": {},
     "output_type": "execute_result"
    }
   ],
   "source": [
    "analogy('tall', 'tallest', 'long')"
   ]
  },
  {
   "cell_type": "code",
   "execution_count": 19,
   "metadata": {},
   "outputs": [
    {
     "data": {
      "text/plain": [
       "[('timid', 0.6972248554229736),\n",
       " ('dimwitted', 0.6926876306533813),\n",
       " ('flighty', 0.6924856901168823),\n",
       " ('effete', 0.6862304210662842),\n",
       " ('slatternly', 0.6861974000930786),\n",
       " ('prissy', 0.6815040707588196),\n",
       " ('scatterbrained', 0.6811786890029907),\n",
       " ('henpecked', 0.6807010173797607),\n",
       " ('snobbish', 0.6806244850158691),\n",
       " ('pampered', 0.6768413782119751)]"
      ]
     },
     "execution_count": 19,
     "metadata": {},
     "output_type": "execute_result"
    }
   ],
   "source": [
    "analogy('particular', 'fussy', 'subservient')"
   ]
  },
  {
   "cell_type": "markdown",
   "metadata": {},
   "source": [
    "### which word doesnt belong"
   ]
  },
  {
   "cell_type": "code",
   "execution_count": 21,
   "metadata": {},
   "outputs": [
    {
     "name": "stdout",
     "output_type": "stream",
     "text": [
      "russia\n"
     ]
    }
   ],
   "source": [
    "print(model.doesnt_match(\"england france germant russia\".split()))"
   ]
  },
  {
   "cell_type": "markdown",
   "metadata": {},
   "source": [
    "### pca of vector space"
   ]
  },
  {
   "cell_type": "code",
   "execution_count": 23,
   "metadata": {},
   "outputs": [],
   "source": [
    "def display_pca_scatterplot(model, words=None, sample=0):\n",
    "    if words == None:\n",
    "        if sample > 0:\n",
    "            words = np.random.choice(list(model.vocab.keys()), sample)\n",
    "        else:\n",
    "            words = [ word for word in model.vocab ]\n",
    "        \n",
    "    word_vectors = np.array([model[w] for w in words])\n",
    "\n",
    "    twodim = PCA().fit_transform(word_vectors)[:,:2]\n",
    "    \n",
    "    plt.figure(figsize=(6,6))\n",
    "    plt.scatter(twodim[:,0], twodim[:,1], edgecolors='k', c='r')\n",
    "    for word, (x,y) in zip(words, twodim):\n",
    "        plt.text(x+0.05, y+0.05, word)"
   ]
  },
  {
   "cell_type": "code",
   "execution_count": 24,
   "metadata": {},
   "outputs": [
    {
     "data": {
      "image/png": "[encoded data removed]",
      "text/plain": [
       "<Figure size 432x432 with 1 Axes>"
      ]
     },
     "metadata": {
      "needs_background": "light"
     },
     "output_type": "display_data"
    }
   ],
   "source": [
    "display_pca_scatterplot(model, \n",
    "                        ['coffee', 'tea', 'beer', 'wine', 'brandy', 'rum', 'champagne', 'water',\n",
    "                         'spaghetti', 'borscht', 'hamburger', 'pizza', 'falafel', 'sushi', 'meatballs',\n",
    "                         'dog', 'horse', 'cat', 'monkey', 'parrot', 'koala', 'lizard',\n",
    "                         'frog', 'toad', 'monkey', 'ape', 'kangaroo', 'wombat', 'wolf',\n",
    "                         'france', 'germany', 'hungary', 'luxembourg', 'australia', 'fiji', 'china',\n",
    "                         'homework', 'assignment', 'problem', 'exam', 'test', 'class',\n",
    "                         'school', 'college', 'university', 'institute'])"
   ]
  },
  {
   "cell_type": "markdown",
   "metadata": {},
   "source": [
    "# spaCy"
   ]
  },
  {
   "cell_type": "code",
   "execution_count": null,
   "metadata": {},
   "outputs": [],
   "source": [
    "!pip install spacy"
   ]
  },
  {
   "cell_type": "code",
   "execution_count": null,
   "metadata": {},
   "outputs": [],
   "source": [
    "!pip install tqdm"
   ]
  },
  {
   "cell_type": "code",
   "execution_count": null,
   "metadata": {},
   "outputs": [],
   "source": [
    "!python -m spacy download en_core_web_md"
   ]
  },
  {
   "cell_type": "code",
   "execution_count": 25,
   "metadata": {},
   "outputs": [],
   "source": [
    "import spacy\n",
    "import pandas as pd\n",
    "import numpy as np\n",
    "from tqdm import tqdm"
   ]
  },
  {
   "cell_type": "code",
   "execution_count": 26,
   "metadata": {},
   "outputs": [],
   "source": [
    "tqdm.pandas()"
   ]
  },
  {
   "cell_type": "code",
   "execution_count": 27,
   "metadata": {},
   "outputs": [],
   "source": [
    "df = pd.read_csv(\"yelp.csv\")"
   ]
  },
  {
   "cell_type": "code",
   "execution_count": 28,
   "metadata": {},
   "outputs": [
    {
     "data": {
      "text/html": [
       "<div>\n",
       "<style scoped>\n",
       "    .dataframe tbody tr th:only-of-type {\n",
       "        vertical-align: middle;\n",
       "    }\n",
       "\n",
       "    .dataframe tbody tr th {\n",
       "        vertical-align: top;\n",
       "    }\n",
       "\n",
       "    .dataframe thead th {\n",
       "        text-align: right;\n",
       "    }\n",
       "</style>\n",
       "<table border=\"1\" class=\"dataframe\">\n",
       "  <thead>\n",
       "    <tr style=\"text-align: right;\">\n",
       "      <th></th>\n",
       "      <th>business_id</th>\n",
       "      <th>date</th>\n",
       "      <th>review_id</th>\n",
       "      <th>stars</th>\n",
       "      <th>text</th>\n",
       "      <th>type</th>\n",
       "      <th>user_id</th>\n",
       "      <th>cool</th>\n",
       "      <th>useful</th>\n",
       "      <th>funny</th>\n",
       "    </tr>\n",
       "  </thead>\n",
       "  <tbody>\n",
       "    <tr>\n",
       "      <th>0</th>\n",
       "      <td>9yKzy9PApeiPPOUJEtnvkg</td>\n",
       "      <td>2011-01-26</td>\n",
       "      <td>fWKvX83p0-ka4JS3dc6E5A</td>\n",
       "      <td>5</td>\n",
       "      <td>My wife took me here on my birthday for breakf...</td>\n",
       "      <td>review</td>\n",
       "      <td>rLtl8ZkDX5vH5nAx9C3q5Q</td>\n",
       "      <td>2</td>\n",
       "      <td>5</td>\n",
       "      <td>0</td>\n",
       "    </tr>\n",
       "    <tr>\n",
       "      <th>1</th>\n",
       "      <td>ZRJwVLyzEJq1VAihDhYiow</td>\n",
       "      <td>2011-07-27</td>\n",
       "      <td>IjZ33sJrzXqU-0X6U8NwyA</td>\n",
       "      <td>5</td>\n",
       "      <td>I have no idea why some people give bad review...</td>\n",
       "      <td>review</td>\n",
       "      <td>0a2KyEL0d3Yb1V6aivbIuQ</td>\n",
       "      <td>0</td>\n",
       "      <td>0</td>\n",
       "      <td>0</td>\n",
       "    </tr>\n",
       "    <tr>\n",
       "      <th>2</th>\n",
       "      <td>6oRAC4uyJCsJl1X0WZpVSA</td>\n",
       "      <td>2012-06-14</td>\n",
       "      <td>IESLBzqUCLdSzSqm0eCSxQ</td>\n",
       "      <td>4</td>\n",
       "      <td>love the gyro plate. Rice is so good and I als...</td>\n",
       "      <td>review</td>\n",
       "      <td>0hT2KtfLiobPvh6cDC8JQg</td>\n",
       "      <td>0</td>\n",
       "      <td>1</td>\n",
       "      <td>0</td>\n",
       "    </tr>\n",
       "    <tr>\n",
       "      <th>3</th>\n",
       "      <td>_1QQZuf4zZOyFCvXc0o6Vg</td>\n",
       "      <td>2010-05-27</td>\n",
       "      <td>G-WvGaISbqqaMHlNnByodA</td>\n",
       "      <td>5</td>\n",
       "      <td>Rosie, Dakota, and I LOVE Chaparral Dog Park!!...</td>\n",
       "      <td>review</td>\n",
       "      <td>uZetl9T0NcROGOyFfughhg</td>\n",
       "      <td>1</td>\n",
       "      <td>2</td>\n",
       "      <td>0</td>\n",
       "    </tr>\n",
       "    <tr>\n",
       "      <th>4</th>\n",
       "      <td>6ozycU1RpktNG2-1BroVtw</td>\n",
       "      <td>2012-01-05</td>\n",
       "      <td>1uJFq2r5QfJG_6ExMRCaGw</td>\n",
       "      <td>5</td>\n",
       "      <td>General Manager Scott Petello is a good egg!!!...</td>\n",
       "      <td>review</td>\n",
       "      <td>vYmM4KTsC8ZfQBg-j5MWkw</td>\n",
       "      <td>0</td>\n",
       "      <td>0</td>\n",
       "      <td>0</td>\n",
       "    </tr>\n",
       "  </tbody>\n",
       "</table>\n",
       "</div>"
      ],
      "text/plain": [
       "              business_id        date               review_id  stars  \\\n",
       "0  9yKzy9PApeiPPOUJEtnvkg  2011-01-26  fWKvX83p0-ka4JS3dc6E5A      5   \n",
       "1  ZRJwVLyzEJq1VAihDhYiow  2011-07-27  IjZ33sJrzXqU-0X6U8NwyA      5   \n",
       "2  6oRAC4uyJCsJl1X0WZpVSA  2012-06-14  IESLBzqUCLdSzSqm0eCSxQ      4   \n",
       "3  _1QQZuf4zZOyFCvXc0o6Vg  2010-05-27  G-WvGaISbqqaMHlNnByodA      5   \n",
       "4  6ozycU1RpktNG2-1BroVtw  2012-01-05  1uJFq2r5QfJG_6ExMRCaGw      5   \n",
       "\n",
       "                                                text    type  \\\n",
       "0  My wife took me here on my birthday for breakf...  review   \n",
       "1  I have no idea why some people give bad review...  review   \n",
       "2  love the gyro plate. Rice is so good and I als...  review   \n",
       "3  Rosie, Dakota, and I LOVE Chaparral Dog Park!!...  review   \n",
       "4  General Manager Scott Petello is a good egg!!!...  review   \n",
       "\n",
       "                  user_id  cool  useful  funny  \n",
       "0  rLtl8ZkDX5vH5nAx9C3q5Q     2       5      0  \n",
       "1  0a2KyEL0d3Yb1V6aivbIuQ     0       0      0  \n",
       "2  0hT2KtfLiobPvh6cDC8JQg     0       1      0  \n",
       "3  uZetl9T0NcROGOyFfughhg     1       2      0  \n",
       "4  vYmM4KTsC8ZfQBg-j5MWkw     0       0      0  "
      ]
     },
     "execution_count": 28,
     "metadata": {},
     "output_type": "execute_result"
    }
   ],
   "source": [
    "df.head()\n"
   ]
  },
  {
   "cell_type": "code",
   "execution_count": 29,
   "metadata": {},
   "outputs": [
    {
     "data": {
      "text/plain": [
       "(10000, 10)"
      ]
     },
     "execution_count": 29,
     "metadata": {},
     "output_type": "execute_result"
    }
   ],
   "source": [
    "df.shape"
   ]
  },
  {
   "cell_type": "markdown",
   "metadata": {},
   "source": [
    "## spaCy Pipeline"
   ]
  },
  {
   "cell_type": "code",
   "execution_count": 6,
   "metadata": {},
   "outputs": [],
   "source": [
    "nlp = spacy.load('en_core_web_md')"
   ]
  },
  {
   "cell_type": "code",
   "execution_count": 30,
   "metadata": {},
   "outputs": [
    {
     "name": "stderr",
     "output_type": "stream",
     "text": [
      "100%|██████████| 10000/10000 [04:09<00:00, 40.12it/s]\n"
     ]
    }
   ],
   "source": [
    "df['spacy'] = df.text.progress_apply(lambda x: nlp(x))"
   ]
  },
  {
   "cell_type": "markdown",
   "metadata": {},
   "source": [
    "#### each document in the corpus is a doc object containing individual token objects"
   ]
  },
  {
   "cell_type": "code",
   "execution_count": 33,
   "metadata": {},
   "outputs": [
    {
     "data": {
      "text/plain": [
       "spacy.tokens.doc.Doc"
      ]
     },
     "execution_count": 33,
     "metadata": {},
     "output_type": "execute_result"
    }
   ],
   "source": [
    "type(df.spacy[0])"
   ]
  },
  {
   "cell_type": "code",
   "execution_count": 34,
   "metadata": {},
   "outputs": [
    {
     "data": {
      "text/plain": [
       "spacy.tokens.token.Token"
      ]
     },
     "execution_count": 34,
     "metadata": {},
     "output_type": "execute_result"
    }
   ],
   "source": [
    "type(df.spacy[0][0])"
   ]
  },
  {
   "cell_type": "code",
   "execution_count": 35,
   "metadata": {},
   "outputs": [],
   "source": [
    "doc = df.spacy[0]"
   ]
  },
  {
   "cell_type": "code",
   "execution_count": 38,
   "metadata": {},
   "outputs": [
    {
     "data": {
      "text/plain": [
       "array([-2.16472726e-02,  1.38191238e-01, -1.06210820e-01, -7.80636594e-02,\n",
       "        5.61806038e-02,  6.08623475e-02, -3.80515819e-03, -1.12673543e-01,\n",
       "       -3.38070281e-02,  2.10151386e+00, -1.73609957e-01,  1.19751193e-01,\n",
       "        3.50309163e-02, -6.69298396e-02, -1.05082646e-01, -1.17402479e-01,\n",
       "       -1.16695091e-01,  1.02826262e+00, -1.57375470e-01, -2.55518742e-02,\n",
       "       -6.61128107e-03, -6.39689639e-02, -2.30317339e-02, -9.03448928e-03,\n",
       "       -2.29081046e-03, -1.33597646e-02, -7.41439983e-02, -9.14439410e-02,\n",
       "        1.05163408e-02, -1.64022028e-01, -4.69215848e-02,  1.09594710e-01,\n",
       "       -1.79926567e-02,  3.67425978e-02,  5.61799668e-03, -6.92143366e-02,\n",
       "        2.06234418e-02,  1.75198819e-02, -6.45311698e-02, -1.49663622e-02,\n",
       "        6.39529200e-03,  3.73507850e-02,  1.52204772e-02, -7.17922077e-02,\n",
       "        1.03556134e-01,  1.43605277e-01, -1.83414057e-01,  1.27725322e-02,\n",
       "        2.50832606e-02,  2.44922079e-02, -4.45213169e-02,  2.43482795e-02,\n",
       "       -1.14679057e-02, -1.34415587e-03,  8.88832659e-02, -4.49697450e-02,\n",
       "       -3.18901800e-02, -7.11183846e-02,  1.01069575e-02, -3.60640325e-02,\n",
       "       -1.59966643e-03, -1.07953712e-01, -3.08407424e-03,  2.05494255e-01,\n",
       "        2.25179531e-02, -9.56916809e-02,  1.85758490e-02,  7.83707723e-02,\n",
       "        7.24024549e-02,  1.42011374e-01,  7.83979818e-02,  1.51397288e-01,\n",
       "        1.94071218e-01,  1.16955368e-02,  1.01941198e-01,  1.97983049e-02,\n",
       "        8.44153836e-02, -4.29848321e-02, -1.45981014e-01,  1.45277873e-01,\n",
       "       -1.34222989e-03,  7.80382380e-02, -6.98099956e-02, -4.77829017e-02,\n",
       "        4.04745303e-02, -2.03981906e-01,  9.50954705e-02, -2.72707511e-02,\n",
       "        1.71403140e-01,  8.37959424e-02, -9.62781310e-02,  1.25786448e-02,\n",
       "       -1.98370796e-02,  8.09933469e-02,  1.51461080e-01,  3.18491533e-02,\n",
       "       -2.39972444e-03, -5.38832135e-02, -5.30457217e-03,  2.46442370e-02,\n",
       "       -2.92384364e-02, -2.38109101e-02, -3.29071321e-02, -8.64832625e-02,\n",
       "        4.53083478e-02, -5.89851618e-01,  2.04472557e-01, -3.39673162e-02,\n",
       "        1.20276757e-01, -5.63761070e-02,  4.68962640e-02, -1.99994028e-01,\n",
       "        8.10624361e-02, -7.30224252e-02,  6.63273707e-02, -7.70672262e-02,\n",
       "       -6.21797564e-03,  3.24645005e-02, -1.14337979e-02, -4.45546396e-02,\n",
       "        8.04617479e-02,  1.05825970e-02,  6.14057528e-04, -7.18702422e-03,\n",
       "       -1.80047494e-03,  3.03531401e-02, -2.63211727e-02, -1.62567750e-01,\n",
       "        3.04898843e-02, -3.66991982e-02, -2.86249686e-02, -1.11500926e-01,\n",
       "       -1.18190706e-01,  6.60909861e-02,  7.73873776e-02,  3.17782275e-02,\n",
       "        4.17082086e-02,  5.16287833e-02, -5.15348569e-04, -3.97994108e-02,\n",
       "       -1.49193156e+00,  1.02772683e-01,  1.85550839e-01,  3.98739651e-02,\n",
       "        3.75153758e-02, -1.42288387e-01, -1.59684882e-01,  9.86961797e-02,\n",
       "        7.70656914e-02, -3.79956700e-02, -5.58916926e-02,  4.80921939e-02,\n",
       "        1.48791775e-01, -1.66093186e-02, -8.49841833e-02, -4.55700047e-02,\n",
       "       -5.62906452e-02, -6.45205900e-02,  3.76811475e-02, -8.34217072e-02,\n",
       "       -1.02628097e-01,  5.26912957e-02,  6.22094935e-03, -9.31172296e-02,\n",
       "       -5.69571517e-02, -2.06784651e-01,  4.97383401e-02, -6.34225085e-02,\n",
       "        1.83357447e-01, -1.31700849e-02, -1.62401572e-02, -2.98261456e-02,\n",
       "        3.31797972e-02, -1.36825636e-01, -1.81931511e-01,  1.13778319e-02,\n",
       "       -5.46160191e-02, -6.84830993e-02, -6.09143153e-02, -8.37759301e-02,\n",
       "       -1.48124592e-02, -1.36200964e-01, -1.47697970e-01, -6.89197034e-02,\n",
       "       -1.74363703e-02, -1.12878315e-01, -4.17977199e-02, -8.65453854e-02,\n",
       "        5.04579097e-02,  6.15918171e-03, -2.86978837e-02,  2.52853725e-02,\n",
       "       -7.92485848e-02,  3.30525488e-02,  1.33348070e-02,  1.40429959e-01,\n",
       "        2.85379663e-02, -6.87305182e-02, -1.16391331e-02,  1.40786082e-01,\n",
       "       -7.59079382e-02, -6.14117868e-02, -5.40102348e-02,  1.14505775e-02,\n",
       "        2.10391611e-01,  8.88700783e-02,  3.44017372e-02,  3.62903886e-02,\n",
       "        7.44789913e-02,  3.30458774e-04, -4.83545102e-02, -4.46056351e-02,\n",
       "       -3.94461118e-02, -1.26261011e-01,  4.30457853e-02,  1.60340101e-01,\n",
       "       -5.00722835e-03, -8.39354843e-02, -1.74452513e-01,  5.89504130e-02,\n",
       "       -5.09009548e-02, -1.38340583e-02, -6.82408512e-02,  1.20298535e-01,\n",
       "        4.30710316e-02, -5.99162318e-02, -5.01450673e-02,  1.03047818e-01,\n",
       "       -2.04319917e-02,  4.65345383e-02, -8.85456651e-02, -1.83122717e-02,\n",
       "        6.59040064e-02,  7.62158781e-02,  2.41146907e-02, -1.04611024e-01,\n",
       "       -1.46620590e-02, -1.22531019e-01, -6.96631819e-02,  7.15705156e-02,\n",
       "       -2.07046722e-03,  7.04990998e-02, -8.35697576e-02,  8.35453123e-02,\n",
       "        1.19046211e-01, -1.03892177e-01, -1.26009703e-01, -1.37757316e-01,\n",
       "       -1.37988701e-01,  9.20612365e-02, -3.57012334e-03, -7.72535279e-02,\n",
       "       -7.38137215e-02, -2.70520747e-02,  6.10805638e-02,  2.35150889e-01,\n",
       "        1.45176962e-01, -9.91215091e-03, -8.04688931e-02,  4.64397073e-02,\n",
       "        1.19840249e-01,  1.25035807e-01,  2.58997902e-02,  1.00410695e-03,\n",
       "        1.01799071e-01,  5.10348065e-04, -6.43950626e-02,  1.27105406e-02,\n",
       "        1.46022752e-01,  4.04921584e-02,  4.77672890e-02, -2.42062025e-02,\n",
       "       -1.14446841e-01, -1.56842604e-01, -1.37502551e-01,  5.77849485e-02,\n",
       "        1.22084999e-02,  2.74261925e-02,  4.82187271e-02,  2.76082456e-01,\n",
       "        2.29598761e-01, -1.73978098e-02, -1.11689540e-02, -9.85286608e-02,\n",
       "       -4.08407785e-02, -2.25192960e-02,  1.69913471e-01, -1.29924510e-02,\n",
       "        6.41593710e-02, -2.00370960e-02, -1.36959046e-01,  5.13969772e-02,\n",
       "        1.86417121e-02, -2.30691005e-02,  2.31272876e-02, -4.42283750e-02,\n",
       "        4.94655259e-02, -5.46648614e-02,  4.28696945e-02,  8.64299238e-02],\n",
       "      dtype=float32)"
      ]
     },
     "execution_count": 38,
     "metadata": {},
     "output_type": "execute_result"
    }
   ],
   "source": [
    "#weod is me\n",
    "doc.vector"
   ]
  },
  {
   "cell_type": "markdown",
   "metadata": {},
   "source": [
    "#### part of speach tagging"
   ]
  },
  {
   "cell_type": "code",
   "execution_count": 39,
   "metadata": {},
   "outputs": [
    {
     "data": {
      "text/plain": [
       "'PRON'"
      ]
     },
     "execution_count": 39,
     "metadata": {},
     "output_type": "execute_result"
    }
   ],
   "source": [
    "doc[3].pos_"
   ]
  },
  {
   "cell_type": "markdown",
   "metadata": {},
   "source": [
    "#### vector from loaded language model"
   ]
  },
  {
   "cell_type": "code",
   "execution_count": 40,
   "metadata": {},
   "outputs": [
    {
     "data": {
      "text/plain": [
       "array([-1.5396e-01,  3.1894e-01, -5.4888e-01,  2.5575e-01,  2.5812e-01,\n",
       "       -2.4498e-01, -7.5256e-03, -4.4586e-01, -3.3310e-01,  2.5371e+00,\n",
       "       -3.0797e-01,  3.2259e-01,  1.5141e-01, -4.6900e-01, -2.9880e-01,\n",
       "       -6.7120e-03, -1.5408e-01,  8.2595e-01, -9.0429e-02,  9.5433e-02,\n",
       "        3.7679e-01,  2.3810e-02, -2.3350e-01,  2.6510e-01, -1.0142e-01,\n",
       "        1.3369e-02,  1.8771e-01, -3.0711e-02,  3.5253e-01, -5.2993e-01,\n",
       "        3.2665e-02,  4.6994e-01, -2.9181e-01, -5.3454e-02,  1.5640e-02,\n",
       "       -3.5972e-02, -2.5803e-02,  2.7286e-02, -6.6553e-02, -3.7466e-01,\n",
       "       -3.1585e-01, -4.4513e-02, -3.1270e-01, -1.3976e-01,  2.2966e-01,\n",
       "        3.9333e-01, -1.7182e-01, -4.3639e-02,  1.7291e-01,  2.0719e-01,\n",
       "       -9.2617e-02,  1.8868e-01,  9.6837e-02,  2.3362e-02,  1.5004e-01,\n",
       "        3.0582e-01, -4.4929e-01, -8.3601e-02, -3.8335e-02, -4.1140e-02,\n",
       "       -3.7771e-01, -8.7132e-02, -2.4334e-01,  1.9499e-01,  3.4166e-01,\n",
       "       -1.4412e-01,  3.7503e-02, -5.1979e-02, -1.1018e-01,  4.0829e-01,\n",
       "       -6.0759e-02,  1.6646e-02,  2.1900e-01,  8.7433e-02,  1.7823e-01,\n",
       "        3.6771e-01,  6.0577e-01, -3.4947e-01, -1.5639e-01,  4.6658e-01,\n",
       "        1.4459e-03, -8.5848e-02, -3.9846e-01, -1.3264e-02,  1.3744e-01,\n",
       "       -3.0367e-01,  4.2076e-01, -7.7487e-01,  6.1946e-01, -9.1566e-02,\n",
       "       -3.4035e-01, -1.2057e-01, -1.5843e-01, -4.0369e-03,  4.7313e-02,\n",
       "        4.2598e-01,  1.8908e-01, -3.1651e-01, -7.1239e-02,  1.3189e-01,\n",
       "       -6.0507e-02,  4.7623e-02, -6.5324e-02, -1.6438e-01,  2.4520e-01,\n",
       "       -3.9248e-01,  3.0636e-01,  1.5885e-01, -2.0593e-01,  7.8804e-02,\n",
       "        3.2173e-01, -4.1340e-01,  5.7167e-01,  8.9288e-02,  1.3494e-01,\n",
       "       -2.5182e-01, -1.0750e-01, -2.6265e-01,  4.1145e-01,  4.0077e-02,\n",
       "        3.4868e-01, -4.1758e-01,  2.6607e-03,  1.8864e-01,  3.1739e-01,\n",
       "       -3.7066e-02,  4.7874e-03, -3.5659e-02, -1.3064e-02,  6.1671e-02,\n",
       "       -8.1892e-02, -1.4293e-01, -3.8927e-01,  1.9965e-02,  1.3261e-01,\n",
       "       -1.9291e-02, -3.5979e-02,  4.0344e-01, -2.7053e-01, -1.3914e-01,\n",
       "       -2.7504e+00,  2.2190e-01,  2.5950e-03,  3.8409e-02,  4.7943e-04,\n",
       "        4.2848e-02, -1.5918e-01,  2.7683e-01, -7.2232e-01, -2.0880e-01,\n",
       "        1.0410e-01,  3.4372e-01,  2.1924e-01, -1.4944e-01,  1.1549e-02,\n",
       "       -7.7707e-02, -1.7796e-02, -1.5402e-01,  1.1486e-01, -3.5102e-01,\n",
       "       -2.9005e-01,  6.9873e-02,  1.3258e-01, -9.4058e-02,  9.3709e-02,\n",
       "        5.4738e-02, -1.8868e-02,  7.1811e-02, -3.4275e-02,  1.3996e-01,\n",
       "       -2.7488e-01, -3.9626e-01,  4.1488e-01, -4.4789e-01,  2.4048e-03,\n",
       "        1.6817e-01, -7.5884e-02, -1.9818e-01, -2.8461e-01,  1.8548e-02,\n",
       "        7.7935e-02, -7.9466e-02,  1.9185e-01,  8.1991e-03,  4.6121e-01,\n",
       "       -1.2630e-01, -3.7604e-01, -3.1227e-02,  2.4897e-01,  1.9553e-01,\n",
       "        2.5801e-01, -3.3281e-01, -3.1303e-01, -2.2802e-01,  1.2570e-02,\n",
       "        2.8560e-01,  6.3252e-02, -3.1073e-01,  3.2407e-01,  1.3186e-01,\n",
       "       -1.9087e-01,  3.5195e-01, -5.0917e-01, -3.0888e-02,  2.0958e-02,\n",
       "        2.6458e-01,  5.0711e-01,  6.3410e-02,  5.2963e-02,  1.3797e-01,\n",
       "       -9.6061e-02, -4.5935e-01, -9.6708e-03, -1.5591e-01,  1.0447e-01,\n",
       "        2.9636e-01, -5.0042e-02, -1.0892e-01, -6.5754e-02,  2.0289e-01,\n",
       "       -8.5210e-02,  3.4053e-01, -2.2064e-01,  2.8591e-01,  1.6588e-01,\n",
       "        1.4755e-01, -7.7477e-02,  1.1453e-01, -1.5960e-01, -3.1660e-01,\n",
       "       -5.9842e-01, -7.0888e-02,  1.2268e-01,  7.8458e-02,  4.9465e-02,\n",
       "       -2.5338e-01,  1.4353e-01,  4.0625e-02, -1.3864e-02,  3.1302e-01,\n",
       "        1.5877e-01,  3.5475e-01, -5.0796e-02,  3.4660e-01,  2.6806e-01,\n",
       "       -3.3184e-01,  1.1977e-01,  3.6780e-02, -5.7687e-02,  4.1657e-01,\n",
       "        1.5703e-01, -3.3583e-01, -2.4809e-01,  2.9382e-01,  1.9421e-01,\n",
       "        3.1912e-01,  9.8237e-02, -3.0203e-01,  1.7137e-02,  1.8071e-01,\n",
       "       -1.1427e-01,  5.0143e-01, -7.5831e-02, -1.0783e-01,  2.9156e-01,\n",
       "       -1.0767e-01,  2.6931e-01,  2.5470e-01,  1.9744e-01,  3.6557e-02,\n",
       "        4.2576e-01,  1.5912e-01, -1.0908e-03, -1.5813e-01, -1.2099e-01,\n",
       "        3.2691e-01,  5.9496e-02, -4.4812e-01,  1.4870e-01,  3.4124e-01,\n",
       "       -1.4872e-01, -8.5174e-02,  3.3216e-02, -3.5240e-01, -3.2374e-01,\n",
       "       -2.1070e-01,  6.5789e-01, -3.6495e-01, -9.3276e-02, -1.3541e-01,\n",
       "       -8.1115e-02, -9.3947e-02,  2.0903e-01,  1.9237e-01,  4.6931e-01,\n",
       "       -1.3735e-01,  2.0371e-01,  1.9787e-01,  5.9997e-03,  6.9986e-03],\n",
       "      dtype=float32)"
      ]
     },
     "execution_count": 40,
     "metadata": {},
     "output_type": "execute_result"
    }
   ],
   "source": [
    "#stop words HAVE a vector representation\n",
    "doc[3].vector"
   ]
  },
  {
   "cell_type": "markdown",
   "metadata": {},
   "source": [
    "#### vector representation of document (avg of all word vectors in doc)"
   ]
  },
  {
   "cell_type": "code",
   "execution_count": 41,
   "metadata": {},
   "outputs": [
    {
     "data": {
      "text/plain": [
       "3.2036364011442964"
      ]
     },
     "execution_count": 41,
     "metadata": {},
     "output_type": "execute_result"
    }
   ],
   "source": [
    "doc.vector_norm"
   ]
  },
  {
   "cell_type": "markdown",
   "metadata": {},
   "source": [
    "#### sentance splitting in document"
   ]
  },
  {
   "cell_type": "code",
   "execution_count": 42,
   "metadata": {},
   "outputs": [
    {
     "data": {
      "text/plain": [
       "[My wife took me here on my birthday for breakfast and it was excellent.  ,\n",
       " The weather was perfect which made sitting outside overlooking their grounds an absolute pleasure.  ,\n",
       " Our waitress was excellent and our food arrived quickly on the semi-busy Saturday morning.  ,\n",
       " It looked like the place fills up pretty quickly,\n",
       " so the earlier you get here the better.\n",
       " ,\n",
       " Do yourself a favor and get their Bloody Mary.  ,\n",
       " It was phenomenal and simply the best I've ever had.  ,\n",
       " I'm pretty sure they only use ingredients from their garden and blend them fresh when you order it.  ,\n",
       " It was amazing.\n",
       " ,\n",
       " While EVERYTHING on the menu looks excellent, I had the white truffle scrambled eggs vegetable skillet,\n",
       " and it was tasty and delicious.  ,\n",
       " It came with 2 pieces of their griddled bread with was amazing,\n",
       " and it absolutely made the meal complete.  ,\n",
       " It was the best \"toast\" I've ever had.\n",
       " ,\n",
       " Anyway, I can't wait to go back!]"
      ]
     },
     "execution_count": 42,
     "metadata": {},
     "output_type": "execute_result"
    }
   ],
   "source": [
    "[sents for sents in doc.sents]"
   ]
  },
  {
   "cell_type": "markdown",
   "metadata": {},
   "source": [
    "#### document similarity"
   ]
  },
  {
   "cell_type": "code",
   "execution_count": 43,
   "metadata": {},
   "outputs": [
    {
     "data": {
      "text/plain": [
       "0.9821755280885994"
      ]
     },
     "execution_count": 43,
     "metadata": {},
     "output_type": "execute_result"
    }
   ],
   "source": [
    "doc_2 = df.spacy[1]\n",
    "doc.similarity(doc_2)"
   ]
  },
  {
   "cell_type": "code",
   "execution_count": null,
   "metadata": {},
   "outputs": [],
   "source": [
    "doc"
   ]
  },
  {
   "cell_type": "markdown",
   "metadata": {},
   "source": [
    "### see documentation for all you can do\n",
    "* https://spacy.io/api/token\n",
    "* https://spacy.io/api/doc"
   ]
  },
  {
   "cell_type": "code",
   "execution_count": 44,
   "metadata": {},
   "outputs": [
    {
     "data": {
      "text/html": [
       "<div>\n",
       "<style scoped>\n",
       "    .dataframe tbody tr th:only-of-type {\n",
       "        vertical-align: middle;\n",
       "    }\n",
       "\n",
       "    .dataframe tbody tr th {\n",
       "        vertical-align: top;\n",
       "    }\n",
       "\n",
       "    .dataframe thead th {\n",
       "        text-align: right;\n",
       "    }\n",
       "</style>\n",
       "<table border=\"1\" class=\"dataframe\">\n",
       "  <thead>\n",
       "    <tr style=\"text-align: right;\">\n",
       "      <th></th>\n",
       "      <th>0</th>\n",
       "      <th>1</th>\n",
       "      <th>2</th>\n",
       "      <th>3</th>\n",
       "      <th>4</th>\n",
       "      <th>5</th>\n",
       "      <th>6</th>\n",
       "      <th>7</th>\n",
       "      <th>8</th>\n",
       "      <th>9</th>\n",
       "      <th>...</th>\n",
       "      <th>290</th>\n",
       "      <th>291</th>\n",
       "      <th>292</th>\n",
       "      <th>293</th>\n",
       "      <th>294</th>\n",
       "      <th>295</th>\n",
       "      <th>296</th>\n",
       "      <th>297</th>\n",
       "      <th>298</th>\n",
       "      <th>299</th>\n",
       "    </tr>\n",
       "  </thead>\n",
       "  <tbody>\n",
       "    <tr>\n",
       "      <th>0</th>\n",
       "      <td>-0.021647</td>\n",
       "      <td>0.138191</td>\n",
       "      <td>-0.106211</td>\n",
       "      <td>-0.078064</td>\n",
       "      <td>0.056181</td>\n",
       "      <td>0.060862</td>\n",
       "      <td>-0.003805</td>\n",
       "      <td>-0.112674</td>\n",
       "      <td>-0.033807</td>\n",
       "      <td>2.101514</td>\n",
       "      <td>...</td>\n",
       "      <td>-0.136959</td>\n",
       "      <td>0.051397</td>\n",
       "      <td>0.018642</td>\n",
       "      <td>-0.023069</td>\n",
       "      <td>0.023127</td>\n",
       "      <td>-0.044228</td>\n",
       "      <td>0.049466</td>\n",
       "      <td>-0.054665</td>\n",
       "      <td>0.042870</td>\n",
       "      <td>0.086430</td>\n",
       "    </tr>\n",
       "    <tr>\n",
       "      <th>1</th>\n",
       "      <td>-0.051446</td>\n",
       "      <td>0.174888</td>\n",
       "      <td>-0.162487</td>\n",
       "      <td>-0.085476</td>\n",
       "      <td>0.075221</td>\n",
       "      <td>0.077776</td>\n",
       "      <td>0.023618</td>\n",
       "      <td>-0.094539</td>\n",
       "      <td>0.011515</td>\n",
       "      <td>2.291694</td>\n",
       "      <td>...</td>\n",
       "      <td>-0.185593</td>\n",
       "      <td>0.048113</td>\n",
       "      <td>-0.003736</td>\n",
       "      <td>-0.029323</td>\n",
       "      <td>0.014807</td>\n",
       "      <td>-0.067929</td>\n",
       "      <td>-0.012392</td>\n",
       "      <td>-0.065273</td>\n",
       "      <td>0.063565</td>\n",
       "      <td>0.102081</td>\n",
       "    </tr>\n",
       "    <tr>\n",
       "      <th>2</th>\n",
       "      <td>0.017356</td>\n",
       "      <td>0.126895</td>\n",
       "      <td>-0.039717</td>\n",
       "      <td>-0.133329</td>\n",
       "      <td>0.094522</td>\n",
       "      <td>0.094641</td>\n",
       "      <td>0.031455</td>\n",
       "      <td>-0.209612</td>\n",
       "      <td>-0.031536</td>\n",
       "      <td>1.723231</td>\n",
       "      <td>...</td>\n",
       "      <td>-0.226321</td>\n",
       "      <td>0.145408</td>\n",
       "      <td>-0.109102</td>\n",
       "      <td>-0.080141</td>\n",
       "      <td>0.077363</td>\n",
       "      <td>-0.122503</td>\n",
       "      <td>0.094507</td>\n",
       "      <td>-0.145394</td>\n",
       "      <td>0.001237</td>\n",
       "      <td>0.178629</td>\n",
       "    </tr>\n",
       "    <tr>\n",
       "      <th>3</th>\n",
       "      <td>0.060860</td>\n",
       "      <td>0.164606</td>\n",
       "      <td>-0.154045</td>\n",
       "      <td>-0.168020</td>\n",
       "      <td>0.138500</td>\n",
       "      <td>0.092502</td>\n",
       "      <td>-0.002123</td>\n",
       "      <td>-0.076254</td>\n",
       "      <td>-0.074994</td>\n",
       "      <td>1.953031</td>\n",
       "      <td>...</td>\n",
       "      <td>-0.180692</td>\n",
       "      <td>-0.032520</td>\n",
       "      <td>0.012061</td>\n",
       "      <td>-0.062361</td>\n",
       "      <td>-0.013487</td>\n",
       "      <td>0.018939</td>\n",
       "      <td>0.078037</td>\n",
       "      <td>-0.067532</td>\n",
       "      <td>-0.028504</td>\n",
       "      <td>0.090960</td>\n",
       "    </tr>\n",
       "    <tr>\n",
       "      <th>4</th>\n",
       "      <td>-0.095067</td>\n",
       "      <td>0.196053</td>\n",
       "      <td>-0.222208</td>\n",
       "      <td>-0.049087</td>\n",
       "      <td>0.052358</td>\n",
       "      <td>-0.010961</td>\n",
       "      <td>0.008600</td>\n",
       "      <td>-0.170744</td>\n",
       "      <td>-0.042944</td>\n",
       "      <td>2.149826</td>\n",
       "      <td>...</td>\n",
       "      <td>-0.194802</td>\n",
       "      <td>0.040638</td>\n",
       "      <td>-0.044806</td>\n",
       "      <td>-0.043795</td>\n",
       "      <td>0.094823</td>\n",
       "      <td>-0.067053</td>\n",
       "      <td>-0.022288</td>\n",
       "      <td>-0.071459</td>\n",
       "      <td>0.071956</td>\n",
       "      <td>0.073355</td>\n",
       "    </tr>\n",
       "    <tr>\n",
       "      <th>...</th>\n",
       "      <td>...</td>\n",
       "      <td>...</td>\n",
       "      <td>...</td>\n",
       "      <td>...</td>\n",
       "      <td>...</td>\n",
       "      <td>...</td>\n",
       "      <td>...</td>\n",
       "      <td>...</td>\n",
       "      <td>...</td>\n",
       "      <td>...</td>\n",
       "      <td>...</td>\n",
       "      <td>...</td>\n",
       "      <td>...</td>\n",
       "      <td>...</td>\n",
       "      <td>...</td>\n",
       "      <td>...</td>\n",
       "      <td>...</td>\n",
       "      <td>...</td>\n",
       "      <td>...</td>\n",
       "      <td>...</td>\n",
       "      <td>...</td>\n",
       "    </tr>\n",
       "    <tr>\n",
       "      <th>9995</th>\n",
       "      <td>-0.075224</td>\n",
       "      <td>0.134890</td>\n",
       "      <td>-0.089058</td>\n",
       "      <td>-0.109522</td>\n",
       "      <td>0.056692</td>\n",
       "      <td>0.149972</td>\n",
       "      <td>-0.031459</td>\n",
       "      <td>-0.069323</td>\n",
       "      <td>-0.004701</td>\n",
       "      <td>1.914595</td>\n",
       "      <td>...</td>\n",
       "      <td>-0.112275</td>\n",
       "      <td>0.041639</td>\n",
       "      <td>-0.041451</td>\n",
       "      <td>-0.033929</td>\n",
       "      <td>-0.055093</td>\n",
       "      <td>-0.020203</td>\n",
       "      <td>0.021392</td>\n",
       "      <td>-0.192331</td>\n",
       "      <td>0.043283</td>\n",
       "      <td>0.105996</td>\n",
       "    </tr>\n",
       "    <tr>\n",
       "      <th>9996</th>\n",
       "      <td>-0.021209</td>\n",
       "      <td>0.151835</td>\n",
       "      <td>-0.112525</td>\n",
       "      <td>-0.122594</td>\n",
       "      <td>0.096538</td>\n",
       "      <td>0.058507</td>\n",
       "      <td>0.037832</td>\n",
       "      <td>-0.138415</td>\n",
       "      <td>-0.004357</td>\n",
       "      <td>2.119311</td>\n",
       "      <td>...</td>\n",
       "      <td>-0.134819</td>\n",
       "      <td>0.032786</td>\n",
       "      <td>-0.051842</td>\n",
       "      <td>-0.048212</td>\n",
       "      <td>0.020107</td>\n",
       "      <td>-0.043680</td>\n",
       "      <td>0.014316</td>\n",
       "      <td>-0.068673</td>\n",
       "      <td>0.009537</td>\n",
       "      <td>0.125834</td>\n",
       "    </tr>\n",
       "    <tr>\n",
       "      <th>9997</th>\n",
       "      <td>-0.030904</td>\n",
       "      <td>0.165316</td>\n",
       "      <td>-0.102100</td>\n",
       "      <td>-0.127558</td>\n",
       "      <td>0.130750</td>\n",
       "      <td>0.056111</td>\n",
       "      <td>0.000408</td>\n",
       "      <td>-0.088597</td>\n",
       "      <td>0.021815</td>\n",
       "      <td>2.139497</td>\n",
       "      <td>...</td>\n",
       "      <td>-0.178942</td>\n",
       "      <td>0.070853</td>\n",
       "      <td>-0.077041</td>\n",
       "      <td>-0.035782</td>\n",
       "      <td>-0.026700</td>\n",
       "      <td>-0.029504</td>\n",
       "      <td>0.013137</td>\n",
       "      <td>-0.100683</td>\n",
       "      <td>0.024946</td>\n",
       "      <td>0.108802</td>\n",
       "    </tr>\n",
       "    <tr>\n",
       "      <th>9998</th>\n",
       "      <td>-0.026898</td>\n",
       "      <td>0.144509</td>\n",
       "      <td>-0.164131</td>\n",
       "      <td>-0.081958</td>\n",
       "      <td>0.082170</td>\n",
       "      <td>-0.037320</td>\n",
       "      <td>0.030681</td>\n",
       "      <td>-0.165972</td>\n",
       "      <td>-0.023817</td>\n",
       "      <td>2.318492</td>\n",
       "      <td>...</td>\n",
       "      <td>-0.177542</td>\n",
       "      <td>-0.039687</td>\n",
       "      <td>0.011728</td>\n",
       "      <td>-0.033147</td>\n",
       "      <td>0.080831</td>\n",
       "      <td>-0.011535</td>\n",
       "      <td>-0.033406</td>\n",
       "      <td>-0.053590</td>\n",
       "      <td>0.045518</td>\n",
       "      <td>0.094528</td>\n",
       "    </tr>\n",
       "    <tr>\n",
       "      <th>9999</th>\n",
       "      <td>-0.015508</td>\n",
       "      <td>0.211870</td>\n",
       "      <td>-0.094921</td>\n",
       "      <td>-0.030358</td>\n",
       "      <td>0.081555</td>\n",
       "      <td>0.067068</td>\n",
       "      <td>-0.024868</td>\n",
       "      <td>-0.101762</td>\n",
       "      <td>0.035391</td>\n",
       "      <td>1.742677</td>\n",
       "      <td>...</td>\n",
       "      <td>-0.119300</td>\n",
       "      <td>0.041961</td>\n",
       "      <td>-0.053012</td>\n",
       "      <td>-0.018483</td>\n",
       "      <td>-0.040071</td>\n",
       "      <td>-0.047681</td>\n",
       "      <td>-0.007709</td>\n",
       "      <td>-0.189017</td>\n",
       "      <td>-0.013659</td>\n",
       "      <td>0.126552</td>\n",
       "    </tr>\n",
       "  </tbody>\n",
       "</table>\n",
       "<p>10000 rows × 300 columns</p>\n",
       "</div>"
      ],
      "text/plain": [
       "           0         1         2         3         4         5         6    \\\n",
       "0    -0.021647  0.138191 -0.106211 -0.078064  0.056181  0.060862 -0.003805   \n",
       "1    -0.051446  0.174888 -0.162487 -0.085476  0.075221  0.077776  0.023618   \n",
       "2     0.017356  0.126895 -0.039717 -0.133329  0.094522  0.094641  0.031455   \n",
       "3     0.060860  0.164606 -0.154045 -0.168020  0.138500  0.092502 -0.002123   \n",
       "4    -0.095067  0.196053 -0.222208 -0.049087  0.052358 -0.010961  0.008600   \n",
       "...        ...       ...       ...       ...       ...       ...       ...   \n",
       "9995 -0.075224  0.134890 -0.089058 -0.109522  0.056692  0.149972 -0.031459   \n",
       "9996 -0.021209  0.151835 -0.112525 -0.122594  0.096538  0.058507  0.037832   \n",
       "9997 -0.030904  0.165316 -0.102100 -0.127558  0.130750  0.056111  0.000408   \n",
       "9998 -0.026898  0.144509 -0.164131 -0.081958  0.082170 -0.037320  0.030681   \n",
       "9999 -0.015508  0.211870 -0.094921 -0.030358  0.081555  0.067068 -0.024868   \n",
       "\n",
       "           7         8         9    ...       290       291       292  \\\n",
       "0    -0.112674 -0.033807  2.101514  ... -0.136959  0.051397  0.018642   \n",
       "1    -0.094539  0.011515  2.291694  ... -0.185593  0.048113 -0.003736   \n",
       "2    -0.209612 -0.031536  1.723231  ... -0.226321  0.145408 -0.109102   \n",
       "3    -0.076254 -0.074994  1.953031  ... -0.180692 -0.032520  0.012061   \n",
       "4    -0.170744 -0.042944  2.149826  ... -0.194802  0.040638 -0.044806   \n",
       "...        ...       ...       ...  ...       ...       ...       ...   \n",
       "9995 -0.069323 -0.004701  1.914595  ... -0.112275  0.041639 -0.041451   \n",
       "9996 -0.138415 -0.004357  2.119311  ... -0.134819  0.032786 -0.051842   \n",
       "9997 -0.088597  0.021815  2.139497  ... -0.178942  0.070853 -0.077041   \n",
       "9998 -0.165972 -0.023817  2.318492  ... -0.177542 -0.039687  0.011728   \n",
       "9999 -0.101762  0.035391  1.742677  ... -0.119300  0.041961 -0.053012   \n",
       "\n",
       "           293       294       295       296       297       298       299  \n",
       "0    -0.023069  0.023127 -0.044228  0.049466 -0.054665  0.042870  0.086430  \n",
       "1    -0.029323  0.014807 -0.067929 -0.012392 -0.065273  0.063565  0.102081  \n",
       "2    -0.080141  0.077363 -0.122503  0.094507 -0.145394  0.001237  0.178629  \n",
       "3    -0.062361 -0.013487  0.018939  0.078037 -0.067532 -0.028504  0.090960  \n",
       "4    -0.043795  0.094823 -0.067053 -0.022288 -0.071459  0.071956  0.073355  \n",
       "...        ...       ...       ...       ...       ...       ...       ...  \n",
       "9995 -0.033929 -0.055093 -0.020203  0.021392 -0.192331  0.043283  0.105996  \n",
       "9996 -0.048212  0.020107 -0.043680  0.014316 -0.068673  0.009537  0.125834  \n",
       "9997 -0.035782 -0.026700 -0.029504  0.013137 -0.100683  0.024946  0.108802  \n",
       "9998 -0.033147  0.080831 -0.011535 -0.033406 -0.053590  0.045518  0.094528  \n",
       "9999 -0.018483 -0.040071 -0.047681 -0.007709 -0.189017 -0.013659  0.126552  \n",
       "\n",
       "[10000 rows x 300 columns]"
      ]
     },
     "execution_count": 44,
     "metadata": {},
     "output_type": "execute_result"
    }
   ],
   "source": [
    "pd.DataFrame(np.vstack([x.vector for x in df.spacy]))"
   ]
  },
  {
   "cell_type": "code",
   "execution_count": null,
   "metadata": {},
   "outputs": [],
   "source": []
  }
 ],
 "metadata": {
  "kernelspec": {
   "display_name": "Python 3",
   "language": "python",
   "name": "python3"
  },
  "language_info": {
   "codemirror_mode": {
    "name": "ipython",
    "version": 3
   },
   "file_extension": ".py",
   "mimetype": "text/x-python",
   "name": "python",
   "nbconvert_exporter": "python",
   "pygments_lexer": "ipython3",
   "version": "3.7.4"
  }
 },
 "nbformat": 4,
 "nbformat_minor": 4
}
